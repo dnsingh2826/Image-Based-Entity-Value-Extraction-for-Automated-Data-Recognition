{
 "cells": [
  {
   "cell_type": "markdown",
   "metadata": {},
   "source": [
    "## Image-based Entity Value Extraction for Automated Data Recognition"
   ]
  },
  {
   "cell_type": "markdown",
   "metadata": {},
   "source": [
    "#### 1. Importing data"
   ]
  },
  {
   "cell_type": "markdown",
   "metadata": {},
   "source": [
    "Using Paddle OCR for text extraction from images"
   ]
  },
  {
   "cell_type": "code",
   "execution_count": 1,
   "metadata": {},
   "outputs": [
    {
     "name": "stdout",
     "output_type": "stream",
     "text": [
      "[2024/09/14 15:37:53] ppocr DEBUG: Namespace(help='==SUPPRESS==', use_gpu=False, use_xpu=False, use_npu=False, use_mlu=False, ir_optim=True, use_tensorrt=False, min_subgraph_size=15, precision='fp32', gpu_mem=500, gpu_id=0, image_dir=None, page_num=0, det_algorithm='DB', det_model_dir='C:\\\\Users\\\\singh/.paddleocr/whl\\\\det\\\\en\\\\en_PP-OCRv3_det_infer', det_limit_side_len=960, det_limit_type='max', det_box_type='quad', det_db_thresh=0.3, det_db_box_thresh=0.6, det_db_unclip_ratio=1.5, max_batch_size=10, use_dilation=False, det_db_score_mode='fast', det_east_score_thresh=0.8, det_east_cover_thresh=0.1, det_east_nms_thresh=0.2, det_sast_score_thresh=0.5, det_sast_nms_thresh=0.2, det_pse_thresh=0, det_pse_box_thresh=0.85, det_pse_min_area=16, det_pse_scale=1, scales=[8, 16, 32], alpha=1.0, beta=1.0, fourier_degree=5, rec_algorithm='SVTR_LCNet', rec_model_dir='C:\\\\Users\\\\singh/.paddleocr/whl\\\\rec\\\\en\\\\en_PP-OCRv4_rec_infer', rec_image_inverse=True, rec_image_shape='3, 48, 320', rec_batch_num=6, max_text_length=25, rec_char_dict_path='c:\\\\Users\\\\singh\\\\AppData\\\\Local\\\\Programs\\\\Python\\\\Python312\\\\Lib\\\\site-packages\\\\paddleocr\\\\ppocr\\\\utils\\\\en_dict.txt', use_space_char=True, vis_font_path='./doc/fonts/simfang.ttf', drop_score=0.5, e2e_algorithm='PGNet', e2e_model_dir=None, e2e_limit_side_len=768, e2e_limit_type='max', e2e_pgnet_score_thresh=0.5, e2e_char_dict_path='./ppocr/utils/ic15_dict.txt', e2e_pgnet_valid_set='totaltext', e2e_pgnet_mode='fast', use_angle_cls=True, cls_model_dir='C:\\\\Users\\\\singh/.paddleocr/whl\\\\cls\\\\ch_ppocr_mobile_v2.0_cls_infer', cls_image_shape='3, 48, 192', label_list=['0', '180'], cls_batch_num=6, cls_thresh=0.9, enable_mkldnn=False, cpu_threads=10, use_pdserving=False, warmup=False, sr_model_dir=None, sr_image_shape='3, 32, 128', sr_batch_num=1, draw_img_save_dir='./inference_results', save_crop_res=False, crop_res_save_dir='./output', use_mp=False, total_process_num=1, process_id=0, benchmark=False, save_log_path='./log_output/', show_log=True, use_onnx=False, return_word_box=False, output='./output', table_max_len=488, table_algorithm='TableAttn', table_model_dir=None, merge_no_span_structure=True, table_char_dict_path=None, layout_model_dir=None, layout_dict_path=None, layout_score_threshold=0.5, layout_nms_threshold=0.5, kie_algorithm='LayoutXLM', ser_model_dir=None, re_model_dir=None, use_visual_backbone=True, ser_dict_path='../train_data/XFUND/class_list_xfun.txt', ocr_order_method=None, mode='structure', image_orientation=False, layout=True, table=True, ocr=True, recovery=False, use_pdf2docx_api=False, invert=False, binarize=False, alphacolor=(255, 255, 255), lang='en', det=True, rec=True, type='ocr', savefile=False, ocr_version='PP-OCRv4', structure_version='PP-StructureV2')\n"
     ]
    }
   ],
   "source": [
    "#importing the training data\n",
    "import pandas as pd\n",
    "import requests\n",
    "from PIL import Image\n",
    "from io import BytesIO\n",
    "from paddleocr import PaddleOCR\n",
    "\n",
    "# Initialize the PaddleOCR reader\n",
    "ocr = PaddleOCR(use_angle_cls=True, lang='en')  # Supports more options like 'ch', 'en'\n",
    "\n",
    "# Load the training CSV file\n",
    "train_file = r'C:\\Users\\singh\\Desktop\\Amazon ML Challenge 2024\\66e31d6ee96cd_student_resource_3 (1)\\student_resource 3\\dataset\\train - Copy.csv'  \n",
    "train_df = pd.read_csv(train_file)"
   ]
  },
  {
   "cell_type": "code",
   "execution_count": 2,
   "metadata": {},
   "outputs": [
    {
     "data": {
      "text/html": [
       "<div>\n",
       "<style scoped>\n",
       "    .dataframe tbody tr th:only-of-type {\n",
       "        vertical-align: middle;\n",
       "    }\n",
       "\n",
       "    .dataframe tbody tr th {\n",
       "        vertical-align: top;\n",
       "    }\n",
       "\n",
       "    .dataframe thead th {\n",
       "        text-align: right;\n",
       "    }\n",
       "</style>\n",
       "<table border=\"1\" class=\"dataframe\">\n",
       "  <thead>\n",
       "    <tr style=\"text-align: right;\">\n",
       "      <th></th>\n",
       "      <th>image_link</th>\n",
       "      <th>group_id</th>\n",
       "      <th>entity_name</th>\n",
       "      <th>entity_value</th>\n",
       "    </tr>\n",
       "  </thead>\n",
       "  <tbody>\n",
       "    <tr>\n",
       "      <th>0</th>\n",
       "      <td>https://m.media-amazon.com/images/I/61I9XdN6OF...</td>\n",
       "      <td>748919</td>\n",
       "      <td>item_weight</td>\n",
       "      <td>500.0 gram</td>\n",
       "    </tr>\n",
       "    <tr>\n",
       "      <th>1</th>\n",
       "      <td>https://m.media-amazon.com/images/I/71gSRbyXmo...</td>\n",
       "      <td>916768</td>\n",
       "      <td>item_volume</td>\n",
       "      <td>1.0 cup</td>\n",
       "    </tr>\n",
       "    <tr>\n",
       "      <th>2</th>\n",
       "      <td>https://m.media-amazon.com/images/I/61BZ4zrjZX...</td>\n",
       "      <td>459516</td>\n",
       "      <td>item_weight</td>\n",
       "      <td>0.709 gram</td>\n",
       "    </tr>\n",
       "    <tr>\n",
       "      <th>3</th>\n",
       "      <td>https://m.media-amazon.com/images/I/612mrlqiI4...</td>\n",
       "      <td>459516</td>\n",
       "      <td>item_weight</td>\n",
       "      <td>0.709 gram</td>\n",
       "    </tr>\n",
       "    <tr>\n",
       "      <th>4</th>\n",
       "      <td>https://m.media-amazon.com/images/I/617Tl40LOX...</td>\n",
       "      <td>731432</td>\n",
       "      <td>item_weight</td>\n",
       "      <td>1400 milligram</td>\n",
       "    </tr>\n",
       "  </tbody>\n",
       "</table>\n",
       "</div>"
      ],
      "text/plain": [
       "                                          image_link  group_id  entity_name  \\\n",
       "0  https://m.media-amazon.com/images/I/61I9XdN6OF...    748919  item_weight   \n",
       "1  https://m.media-amazon.com/images/I/71gSRbyXmo...    916768  item_volume   \n",
       "2  https://m.media-amazon.com/images/I/61BZ4zrjZX...    459516  item_weight   \n",
       "3  https://m.media-amazon.com/images/I/612mrlqiI4...    459516  item_weight   \n",
       "4  https://m.media-amazon.com/images/I/617Tl40LOX...    731432  item_weight   \n",
       "\n",
       "     entity_value  \n",
       "0      500.0 gram  \n",
       "1         1.0 cup  \n",
       "2      0.709 gram  \n",
       "3      0.709 gram  \n",
       "4  1400 milligram  "
      ]
     },
     "execution_count": 2,
     "metadata": {},
     "output_type": "execute_result"
    }
   ],
   "source": [
    "train_df.head()"
   ]
  },
  {
   "cell_type": "markdown",
   "metadata": {},
   "source": [
    "#### 2. Extracting text from each image without downloading them"
   ]
  },
  {
   "cell_type": "code",
   "execution_count": 3,
   "metadata": {},
   "outputs": [],
   "source": [
    "# Function to download and process an image from a URL using PaddleOCR\n",
    "def process_image_from_url(url):\n",
    "    try:\n",
    "        response = requests.get(url)\n",
    "        if response.status_code == 200:\n",
    "            image = Image.open(BytesIO(response.content))   # Open the image from the response content\n",
    "            image.save(\"temp_image.jpg\")  # Save image temporarily\n",
    "            results = ocr.ocr(\"temp_image.jpg\")   # Use PaddleOCR to extract text from the saved image\n",
    "\n",
    "            # Extract and concatenate text from results\n",
    "            text = ' '.join([result[1][0] for result in results[0]])  # Joining recognized text\n",
    "            return text.strip()  # Return the extracted text\n",
    "\n",
    "        else:\n",
    "            print(f\"Failed to download image from {url}\")\n",
    "            return \"\"\n",
    "    except Exception as e:\n",
    "        print(f\"Error processing image from {url}: {e}\")\n",
    "        return \"\""
   ]
  },
  {
   "cell_type": "code",
   "execution_count": 4,
   "metadata": {},
   "outputs": [
    {
     "name": "stderr",
     "output_type": "stream",
     "text": [
      "Processing Images:   0%|          | 0/49 [00:00<?, ?it/s]"
     ]
    },
    {
     "name": "stdout",
     "output_type": "stream",
     "text": [
      "[2024/09/14 15:38:18] ppocr DEBUG: dt_boxes num : 19, elapsed : 0.7460968494415283\n",
      "[2024/09/14 15:38:18] ppocr DEBUG: cls num  : 19, elapsed : 0.12832355499267578\n",
      "[2024/09/14 15:38:19] ppocr DEBUG: rec_res num  : 19, elapsed : 1.0871057510375977\n"
     ]
    },
    {
     "name": "stderr",
     "output_type": "stream",
     "text": [
      "Processing Images:   2%|▏         | 1/49 [00:02<01:42,  2.14s/it]"
     ]
    },
    {
     "name": "stdout",
     "output_type": "stream",
     "text": [
      "Image URL: https://m.media-amazon.com/images/I/61I9XdN6OFL.jpg\n",
      "Extracted Text: PROPOS NATURE INGREDIENT MENAGER MULTI-USAGE TERREDE SOMMIERES 100%NATUREL Argile 100% pure et naturelle, la terre de Sommieres presente des proprietesabsorbantes qui permettent le nettoyage a sec des taches recalcitrantes sur toutes les surfaces (moquette, tapis, parquet...). Elle est aussi efficace pour desodoriser le linge. Ingredient Bentonite Dosage conseill Selon usage ge fermobrde la chorte hm 100% 500g LABORATOIRE PROPOS'NATUREE\n",
      "[2024/09/14 15:38:20] ppocr DEBUG: dt_boxes num : 19, elapsed : 0.1441800594329834\n",
      "[2024/09/14 15:38:20] ppocr DEBUG: cls num  : 19, elapsed : 0.03389143943786621\n",
      "[2024/09/14 15:38:20] ppocr DEBUG: rec_res num  : 19, elapsed : 0.6729884147644043\n"
     ]
    },
    {
     "name": "stderr",
     "output_type": "stream",
     "text": [
      "Processing Images:   4%|▍         | 2/49 [00:03<01:08,  1.47s/it]"
     ]
    },
    {
     "name": "stdout",
     "output_type": "stream",
     "text": [
      "Image URL: https://m.media-amazon.com/images/I/71gSRbyXmoL.jpg\n",
      "Extracted Text: TEARRIFIC LEBENSMITTELECHT HDAY GEPRAGTES DESIGN AS YOULIKE BEST HITT Designed in OR caee Berlin OR 4 celd LIZENZIERTE UND GESCHUTZTE DESIGNS\n",
      "[2024/09/14 15:38:21] ppocr DEBUG: dt_boxes num : 53, elapsed : 0.14397644996643066\n",
      "[2024/09/14 15:38:21] ppocr DEBUG: cls num  : 53, elapsed : 0.10918784141540527\n",
      "[2024/09/14 15:38:23] ppocr DEBUG: rec_res num  : 53, elapsed : 2.435746669769287\n"
     ]
    },
    {
     "name": "stderr",
     "output_type": "stream",
     "text": [
      "Processing Images:   6%|▌         | 3/49 [00:05<01:35,  2.08s/it]"
     ]
    },
    {
     "name": "stdout",
     "output_type": "stream",
     "text": [
      "Image URL: https://m.media-amazon.com/images/I/61BZ4zrjZXL.jpg\n",
      "Extracted Text: COMPOSITION Serving Size:1 Tablet 0.709 g)Each serving contains (Approx.Values Ingredient Qty./Serving %RDA\" *PHOSPHOcomplexSilybin (Sillybum marianum) 200 mg ** Dandelion Taraxacum officinale) leaf extract-101 100 mg ** Kutki Picrorhiza kurroa)rhizome extract-0.5%Bitters 50 mg ** Kasani Cichorium intybus seed extract-1%Bitters 25 mg ** Punarnava Boerhavia diffusa root extract-0.07%alkaloids 25 mg ** Bhui amla Phyllanthus amarus WP extract-0.5%Bitters 25 mg Amla (Phyllanthus emblica) fruit extract-10%Tannins 25 mg Licorice (Glycyrrhiza glabra) root extract-5%Glycyrrhizin 25 mg Vitamin E 10 mg 100 Piper nigrum fruit extract-95%Piperine 5 mg ** NUTRITIONAL INFORMATION PER SERVING (APPROX.VALUES) Nutrients Qty./Serving %RDA# Energy 3.04kcal 0.13 Carbohydrate 0.51 g ** (Sugars) 0.2 g ** Protein 0.04g 0.07 Fat 0.09 g ** %RDA values established as per ICMR 2010 for sedentary lifestyle-Men **%RDA not established by ICMR\n",
      "[2024/09/14 15:38:24] ppocr DEBUG: dt_boxes num : 45, elapsed : 0.2800285816192627\n",
      "[2024/09/14 15:38:24] ppocr DEBUG: cls num  : 45, elapsed : 0.16794538497924805\n",
      "[2024/09/14 15:38:26] ppocr DEBUG: rec_res num  : 45, elapsed : 2.083489179611206\n"
     ]
    },
    {
     "name": "stderr",
     "output_type": "stream",
     "text": [
      "Processing Images:   8%|▊         | 4/49 [00:08<01:44,  2.31s/it]"
     ]
    },
    {
     "name": "stdout",
     "output_type": "stream",
     "text": [
      "Image URL: https://m.media-amazon.com/images/I/612mrlqiI4L.jpg\n",
      "Extracted Text: WarningConsult your physician before using this product if you are pregnantnursing.taking any medication or having ZRDA' : 1118 ZRDA : CONTAINS PERMITTED SYNTHETIC F00D C0LOURS [INS 171.INS 172().INS 172(&INS 172 Qty./Serving EEEE ow Qty./Serving 3.04kcal 0.51g 600 6900 0.09 g Serving Size:1 Tablet (0.709 gEach serving contains Approx.Values o Punarnava (Boerhavia diffusa root extract-0.07z alkaloids Bhui amla (Phyllanthus amarus) WP extract-0.5% Bitters Kutki (Picrorhiza kurroa rhizome extract-0.5z Bitters Dandelion Taraxacum officinale) leaf extract- 10:1 Kasani Cichorium endivia seed extract-1% Bitters Amla (Phyllanthus emblica) fruit extract-10% Tannins PHOSPHOcomplexSilybin (Silybum marianum) Piper nigrum fruit extract-95xPiperine a medical condition. COMPOSITION ngredient itamin E Carbohydrate Enrey Protein\n",
      "[2024/09/14 15:38:26] ppocr DEBUG: dt_boxes num : 13, elapsed : 0.13933086395263672\n",
      "[2024/09/14 15:38:26] ppocr DEBUG: cls num  : 13, elapsed : 0.11302375793457031\n",
      "[2024/09/14 15:38:27] ppocr DEBUG: rec_res num  : 13, elapsed : 0.5528507232666016\n"
     ]
    },
    {
     "name": "stderr",
     "output_type": "stream",
     "text": [
      "Processing Images:  10%|█         | 5/49 [00:09<01:20,  1.83s/it]"
     ]
    },
    {
     "name": "stdout",
     "output_type": "stream",
     "text": [
      "Image URL: https://m.media-amazon.com/images/I/617Tl40LOXL.jpg\n",
      "Extracted Text: Horbaach HIGHSTRENGTH PSYLLIOM HUSK 1400 PLANTAGO OVATA MG PLANT SEEDS FOOD 365 VEGAN SUPPLEMENT CAPSULES\n",
      "[2024/09/14 15:38:27] ppocr DEBUG: dt_boxes num : 17, elapsed : 0.1493217945098877\n",
      "[2024/09/14 15:38:27] ppocr DEBUG: cls num  : 17, elapsed : 0.0794672966003418\n",
      "[2024/09/14 15:38:28] ppocr DEBUG: rec_res num  : 17, elapsed : 0.8393740653991699\n"
     ]
    },
    {
     "name": "stderr",
     "output_type": "stream",
     "text": [
      "Processing Images:  12%|█▏        | 6/49 [00:10<01:09,  1.62s/it]"
     ]
    },
    {
     "name": "stdout",
     "output_type": "stream",
     "text": [
      "Image URL: https://m.media-amazon.com/images/I/61QsBSE7jgL.jpg\n",
      "Extracted Text: Horbaach HIGHSTRENGTH Naturally-Sourced Psyllium PSYLLIOM HUSK High strength 1400mg per serving 1400MG PLANTAGO OVATA PLANT SEEDS Suitable for Vegans & Vegetarians FOOD SUPPLEMENT 365 VEGAN CAPSULES Horbaach\n",
      "[2024/09/14 15:38:29] ppocr DEBUG: dt_boxes num : 37, elapsed : 0.26262378692626953\n",
      "[2024/09/14 15:38:29] ppocr DEBUG: cls num  : 37, elapsed : 0.11513876914978027\n",
      "[2024/09/14 15:38:32] ppocr DEBUG: rec_res num  : 37, elapsed : 2.7132959365844727\n"
     ]
    },
    {
     "name": "stderr",
     "output_type": "stream",
     "text": [
      "Processing Images:  14%|█▍        | 7/49 [00:14<01:36,  2.29s/it]"
     ]
    },
    {
     "name": "stdout",
     "output_type": "stream",
     "text": [
      "Image URL: https://m.media-amazon.com/images/I/81xsq6vf2qL.jpg\n",
      "Extracted Text: Horbaach Directions: For adults, take two (2) vegan capsules daily, preferably with a meal. Do not exceed stated dose Nutrition Information Typically Per Daily Dose HIGHSTRENGTH 1400mg Psyllium Husk Powder PSYLLIOM Ingredients:Psyllium Husk Powder,Capsule Shell (Hy- droxypropylmethylcellulose), Anti-Caking Agents (Mag nesium Salts of Fatty Acids, Silicon Dioxide). HUSK May contain Sesame Seeds & Mustard.For allergens, see the ingredients in bold. Notice: Take this product with 220ml of fluids. Taking this product without adequate fluid may cause the pos- 1400MG sibility of choking.Do not use this product if you have PLANTAGO OVATA difficulty swallowing.If you experience chest pain, vom- PLANT SEEDS iting or difficulty in swallowing or breathing after taking this product, seek immediate medical attention. Do not take before sleeping.Fibre products can affect the ab- sorption of many medications.Do not take this product within 1.5 hours of taking medication. Free From: Artificial Colour, Artificial Flavour, Artificial Sweetener, Preservatives. FOOD 365 VEGAN SUPPLEMENT CAPSULES SUITABLE FOR VEGETARIANS & VEGANS HU16790C Horbaach.\n",
      "[2024/09/14 15:38:32] ppocr DEBUG: dt_boxes num : 23, elapsed : 0.15279936790466309\n",
      "[2024/09/14 15:38:32] ppocr DEBUG: cls num  : 23, elapsed : 0.042291879653930664\n",
      "[2024/09/14 15:38:33] ppocr DEBUG: rec_res num  : 23, elapsed : 0.7021191120147705\n"
     ]
    },
    {
     "name": "stderr",
     "output_type": "stream",
     "text": [
      "Processing Images:  16%|█▋        | 8/49 [00:15<01:17,  1.90s/it]"
     ]
    },
    {
     "name": "stdout",
     "output_type": "stream",
     "text": [
      "Image URL: https://m.media-amazon.com/images/I/71DiLRHeZdL.jpg\n",
      "Extracted Text: VEGAN Horbaach WHEAT FREE HIGH STRENGTH 000 PSYLLIOM SOY HUSK FREE PLANTAGO OVATA 1400MG PLANT SEEDS DAIRY VEGAN FREE 365 CAPSULES FOOD SUPPLEMENT FREEFROM PRESERVATIVES Horbaach\n",
      "[2024/09/14 15:38:34] ppocr DEBUG: dt_boxes num : 23, elapsed : 0.13808679580688477\n",
      "[2024/09/14 15:38:34] ppocr DEBUG: cls num  : 23, elapsed : 0.07596516609191895\n",
      "[2024/09/14 15:38:34] ppocr DEBUG: rec_res num  : 23, elapsed : 0.6913423538208008\n"
     ]
    },
    {
     "name": "stderr",
     "output_type": "stream",
     "text": [
      "Processing Images:  18%|█▊        | 9/49 [00:17<01:12,  1.81s/it]"
     ]
    },
    {
     "name": "stdout",
     "output_type": "stream",
     "text": [
      "Image URL: https://m.media-amazon.com/images/I/91Cma3RzseL.jpg\n",
      "Extracted Text: Horbaach 100% HIGHEST QUALITY Horbaach TO GMP HIGHSTRENGTH PSYLLIUM GMP HUSK PLANTAGO OVATA 1400MG PLANT SEEDS VEGAN 365 CAPSULES FOOD SUPPLEMENT Horbaach\n",
      "[2024/09/14 15:38:35] ppocr DEBUG: dt_boxes num : 30, elapsed : 0.2857687473297119\n",
      "[2024/09/14 15:38:35] ppocr DEBUG: cls num  : 30, elapsed : 0.08731818199157715\n",
      "[2024/09/14 15:38:36] ppocr DEBUG: rec_res num  : 30, elapsed : 1.1025233268737793\n"
     ]
    },
    {
     "name": "stderr",
     "output_type": "stream",
     "text": [
      "Processing Images:  20%|██        | 10/49 [00:18<01:09,  1.77s/it]"
     ]
    },
    {
     "name": "stdout",
     "output_type": "stream",
     "text": [
      "Image URL: https://m.media-amazon.com/images/I/71jBLhmTNlL.jpg\n",
      "Extracted Text: NEWOOK SAME TRUSTED OUALITY OLD NEW Horbaach Horbaach HIGHSTRENGTH PSYLLIOM HIGHSTRENGTH HUSK PSYLLIOM HUSK 1400MG oer serving 1400MG PLANTAGO OVATA PLANT SEEDS FOOD 365 VEGAN SUPPLEMENT CAPSULES FOOD 365 VEGAN SUPPLEMENT CAPSULES Horbaach PACKAGING MAY VARY\n",
      "[2024/09/14 15:38:37] ppocr DEBUG: dt_boxes num : 7, elapsed : 0.13439273834228516\n",
      "[2024/09/14 15:38:37] ppocr DEBUG: cls num  : 7, elapsed : 0.06919431686401367\n",
      "[2024/09/14 15:38:38] ppocr DEBUG: rec_res num  : 7, elapsed : 1.2798490524291992\n"
     ]
    },
    {
     "name": "stderr",
     "output_type": "stream",
     "text": [
      "Processing Images:  22%|██▏       | 11/49 [00:20<01:08,  1.80s/it]"
     ]
    },
    {
     "name": "stdout",
     "output_type": "stream",
     "text": [
      "Image URL: https://m.media-amazon.com/images/I/81N73b5khVL.jpg\n",
      "Extracted Text: GroBe Kapazitat, Tragfahigkeit bis zu 30KG Das Material ist ca.5mm dick und die Fugen sind verstarkt, so dass es sehr stark ist Tragfahigkeit bis zu 30KG, kann eine Vielzahl von Gegenstanden 30 KG aufnehmen.\n",
      "[2024/09/14 15:38:38] ppocr DEBUG: dt_boxes num : 20, elapsed : 0.13141250610351562\n",
      "[2024/09/14 15:38:38] ppocr DEBUG: cls num  : 20, elapsed : 0.08686256408691406\n",
      "[2024/09/14 15:38:39] ppocr DEBUG: rec_res num  : 20, elapsed : 0.5322444438934326\n"
     ]
    },
    {
     "name": "stderr",
     "output_type": "stream",
     "text": [
      "Processing Images:  24%|██▍       | 12/49 [00:21<00:55,  1.51s/it]"
     ]
    },
    {
     "name": "stdout",
     "output_type": "stream",
     "text": [
      "Image URL: https://m.media-amazon.com/images/I/61oMj2iXOuL.jpg\n",
      "Extracted Text: WILDFANG XS S XL 1,3 cm 2 cm 2,5cm 3 cm 3,5 cm 12 cm 13 cm 14 cm 15 cm 16cm <10 kg 10-15 kg 15-25 kg 25-45 kg >45 kg\n",
      "[2024/09/14 15:38:39] ppocr DEBUG: dt_boxes num : 28, elapsed : 0.13351964950561523\n",
      "[2024/09/14 15:38:40] ppocr DEBUG: cls num  : 28, elapsed : 0.09337687492370605\n",
      "[2024/09/14 15:38:40] ppocr DEBUG: rec_res num  : 28, elapsed : 0.724130392074585\n"
     ]
    },
    {
     "name": "stderr",
     "output_type": "stream",
     "text": [
      "Processing Images:  27%|██▋       | 13/49 [00:22<00:53,  1.48s/it]"
     ]
    },
    {
     "name": "stdout",
     "output_type": "stream",
     "text": [
      "Image URL: https://m.media-amazon.com/images/I/91LPf6OjV9L.jpg\n",
      "Extracted Text: ERICH Helps in CRICH Helps in osteoarthritis digestion Reduces inflammation USDA ORGANIC Anti-bacterial properties ERFOOD RICH ORGANICS SED Helps in PCOS SPEARMINT GREEN TEA 0 Fe WEIGHT NE\n",
      "[2024/09/14 15:38:41] ppocr DEBUG: dt_boxes num : 19, elapsed : 0.2595677375793457\n",
      "[2024/09/14 15:38:41] ppocr DEBUG: cls num  : 19, elapsed : 0.07987022399902344\n",
      "[2024/09/14 15:38:42] ppocr DEBUG: rec_res num  : 19, elapsed : 0.9132556915283203\n"
     ]
    },
    {
     "name": "stderr",
     "output_type": "stream",
     "text": [
      "Processing Images:  29%|██▊       | 14/49 [00:24<00:52,  1.50s/it]"
     ]
    },
    {
     "name": "stdout",
     "output_type": "stream",
     "text": [
      "Image URL: https://m.media-amazon.com/images/I/81fOxWWWKYL.jpg\n",
      "Extracted Text: USDA ORGANIC SSRICHS PROMOTES ORGANICS DIGESTVE HEALTH PLANT BASED ORGANIC SUPERFOOD SPEARMINT GREEN TEA HIGH IN ANTIOXIDANTS HIGH IN VITAMIN ANTI-BACTERIAL IN NATURE +COMBATS DISEASES Fe GREAT SOURCEOFIRON NET WEIGHT100 g3.53 oz\n",
      "[2024/09/14 15:38:42] ppocr DEBUG: dt_boxes num : 58, elapsed : 0.17284941673278809\n",
      "[2024/09/14 15:38:42] ppocr DEBUG: cls num  : 58, elapsed : 0.12934327125549316\n",
      "[2024/09/14 15:38:44] ppocr DEBUG: rec_res num  : 58, elapsed : 1.8997471332550049\n"
     ]
    },
    {
     "name": "stderr",
     "output_type": "stream",
     "text": [
      "Processing Images:  31%|███       | 15/49 [00:27<01:02,  1.83s/it]"
     ]
    },
    {
     "name": "stdout",
     "output_type": "stream",
     "text": [
      "Image URL: https://m.media-amazon.com/images/I/81dzao1Ob4L.jpg\n",
      "Extracted Text: PACKAGNG  CHANGED OOD FOR THE MODERN LIFE SRICH ORGANICS RICH ORGANICS NTO USE PSAPERFOSED Issa SPEARMINT GREEN TEA USDA ORGANIC OODFOR THE MODERN LIFE BEFORE SRICH fssai ORGANICS SRICH LIC.No.12721999000135 ORGANIC SPEARMINT HERBAL TEAE ORGANICS kee DIRECTION OF USE an be made into herba CHORGANICS.COM IngredientsOrganic Spearmint Pure Herb Country of Origin: Indic PLANT BASED Nutritionl Facts ORGANIC SUPERFOOD Calories 80kcal SPEARMINT GREEN TEA ated fal MANUFACTURED AND MARKETED BY: Omg HIGH IN VITAMINA Sorich Organics Pt.d RICHINANTIOXIDANTS NET WEIGHT : 100 g (3.53 oz) ANTI-BACTERIALIN NATURE MRP Rs. FGREAT SOURCEOFIRON BATCH NO. : NET WEIGHT100g3.53oz PKD. : USE BY : AFTER Note: Packaging may vary for a brief period of time.\n",
      "[2024/09/14 15:38:45] ppocr DEBUG: dt_boxes num : 24, elapsed : 0.13906311988830566\n",
      "[2024/09/14 15:38:45] ppocr DEBUG: cls num  : 24, elapsed : 0.043155670166015625\n",
      "[2024/09/14 15:38:46] ppocr DEBUG: rec_res num  : 24, elapsed : 0.9152066707611084\n"
     ]
    },
    {
     "name": "stderr",
     "output_type": "stream",
     "text": [
      "Processing Images:  33%|███▎      | 16/49 [00:28<00:57,  1.74s/it]"
     ]
    },
    {
     "name": "stdout",
     "output_type": "stream",
     "text": [
      "Image URL: https://m.media-amazon.com/images/I/91-iahVGEDL.jpg\n",
      "Extracted Text: XX XX L.oose packaging Impurities added Other Does not brew easily brands Added preservatiyes Processed chemically VS USDA ORGANIC SSRICH Air-tight packaging ERICH ORGANICS Impurities free Brews easily SPEARMINT GREEN TEA Noadded preservative HIGHIN VITAMIN ANTI-BACTERIAL INNATURE Drectly from farm Fe GREAT SOURCE OFIRON\n",
      "[2024/09/14 15:38:47] ppocr DEBUG: dt_boxes num : 10, elapsed : 0.40456342697143555\n",
      "[2024/09/14 15:38:47] ppocr DEBUG: cls num  : 10, elapsed : 0.06782317161560059\n",
      "[2024/09/14 15:38:47] ppocr DEBUG: rec_res num  : 10, elapsed : 0.29754638671875\n"
     ]
    },
    {
     "name": "stderr",
     "output_type": "stream",
     "text": [
      "Processing Images:  35%|███▍      | 17/49 [00:29<00:49,  1.54s/it]"
     ]
    },
    {
     "name": "stdout",
     "output_type": "stream",
     "text": [
      "Image URL: https://m.media-amazon.com/images/I/81S2+GnYpTL.jpg\n",
      "Extracted Text: FREE Glucon-D Regular 200gpack Glucon-D R Instant Energy Regular Vitamin\n",
      "[2024/09/14 15:38:47] ppocr DEBUG: dt_boxes num : 38, elapsed : 0.08905839920043945\n",
      "[2024/09/14 15:38:48] ppocr DEBUG: cls num  : 38, elapsed : 0.14922690391540527\n",
      "[2024/09/14 15:38:49] ppocr DEBUG: rec_res num  : 38, elapsed : 1.8010764122009277\n"
     ]
    },
    {
     "name": "stderr",
     "output_type": "stream",
     "text": [
      "Processing Images:  37%|███▋      | 18/49 [00:32<00:55,  1.79s/it]"
     ]
    },
    {
     "name": "stdout",
     "output_type": "stream",
     "text": [
      "Image URL: https://m.media-amazon.com/images/I/81e2YtCOKvL.jpg\n",
      "Extracted Text: FREE Glucon-D Regular 200gpack Glucon-D Net Weight Instant Energy Ikg eaves youtredyour family needs the Instant Energyof Glucon-D 99.4% pure Glucose-Glucose is an Instant energy source for the body and is the only energy source for the brain. Vitamin Glucon-D has Vitamin D and Calcium that provides strength to the bones and body. Minerals -Glucon-D has Phosphors ttis essential or energy production and storage. So experience the Instant Energyof Glucon-D with your family! i  n66 R   RAARORT ffe a k t.ksferae. Offer available in specifically marked packs only M.R.P RS/INCLOFALLTAXES) LOT No MFD. (See space below/bottom of jar.)\n",
      "[2024/09/14 15:38:50] ppocr DEBUG: dt_boxes num : 43, elapsed : 0.39749670028686523\n",
      "[2024/09/14 15:38:50] ppocr DEBUG: cls num  : 43, elapsed : 0.11713075637817383\n",
      "[2024/09/14 15:38:52] ppocr DEBUG: rec_res num  : 43, elapsed : 1.5179011821746826\n"
     ]
    },
    {
     "name": "stderr",
     "output_type": "stream",
     "text": [
      "Processing Images:  39%|███▉      | 19/49 [00:34<00:59,  1.97s/it]"
     ]
    },
    {
     "name": "stdout",
     "output_type": "stream",
     "text": [
      "Image URL: https://m.media-amazon.com/images/I/81RNsNEM1EL.jpg\n",
      "Extracted Text: FREE Glucon-D Regular 200gpack Glucon-D Instant Energy NUTRITIONALVALUE* Per 100g Per Serve (35g) Energy Value. 360kcal 126kcal Prot.e. Og Carbohydrates. 31.5g of which sugarr (sucrose...g. 0g Fat&All types of fatty aid..g Og Calc.iu. .170mg 59.5mg Phosphorus. .100mg 35mg Vitamin D. .3001.U. 1051.U. *Approx.Value GREIENTSce99.4%MirlsCamhsphtesanditainD Glucose based beverage mi Proprtary Food Storage ConditionStore ina cool dry place away from strong odours. BEST BEFORE 24 MONTHS FROM MANUFACTURE. Heinzy Manufactured forHeinz India Pt.td.7FlooDShivsagar WorliMumbai-400018. fssai LiC.No.10013022001417 Frt  ft hf.ee e FSSAILic.No.10014012000278 FSSAILic.No.10014062000273 Net Weight:\n",
      "[2024/09/14 15:38:53] ppocr DEBUG: dt_boxes num : 19, elapsed : 0.7182931900024414\n",
      "[2024/09/14 15:38:53] ppocr DEBUG: cls num  : 19, elapsed : 0.08077812194824219\n",
      "[2024/09/14 15:38:54] ppocr DEBUG: rec_res num  : 19, elapsed : 0.7275638580322266\n"
     ]
    },
    {
     "name": "stderr",
     "output_type": "stream",
     "text": [
      "Processing Images:  41%|████      | 20/49 [00:36<00:56,  1.96s/it]"
     ]
    },
    {
     "name": "stdout",
     "output_type": "stream",
     "text": [
      "Image URL: https://m.media-amazon.com/images/I/91prZeizZnL.jpg\n",
      "Extracted Text: FREE Glucon-D Regular 200gpack Glucon-D ? Instant Energy Regular Glucon-D Instant Energy Regular Minerals Vitamin Minerals Vitamin\n",
      "[2024/09/14 15:38:54] ppocr DEBUG: dt_boxes num : 3, elapsed : 0.3239874839782715\n",
      "[2024/09/14 15:38:54] ppocr DEBUG: cls num  : 3, elapsed : 0.053795814514160156\n",
      "[2024/09/14 15:38:54] ppocr DEBUG: rec_res num  : 3, elapsed : 0.15224266052246094\n"
     ]
    },
    {
     "name": "stderr",
     "output_type": "stream",
     "text": [
      "Processing Images:  43%|████▎     | 21/49 [00:37<00:43,  1.56s/it]"
     ]
    },
    {
     "name": "stdout",
     "output_type": "stream",
     "text": [
      "Image URL: https://m.media-amazon.com/images/I/31EvJszFVfL.jpg\n",
      "Extracted Text: Glucon-D 9.4in 23cm\n",
      "[2024/09/14 15:38:55] ppocr DEBUG: dt_boxes num : 15, elapsed : 0.7174777984619141\n",
      "[2024/09/14 15:38:55] ppocr DEBUG: cls num  : 15, elapsed : 0.03120112419128418\n",
      "[2024/09/14 15:38:56] ppocr DEBUG: rec_res num  : 15, elapsed : 0.7688577175140381\n"
     ]
    },
    {
     "name": "stderr",
     "output_type": "stream",
     "text": [
      "Processing Images:  45%|████▍     | 22/49 [00:38<00:43,  1.61s/it]"
     ]
    },
    {
     "name": "stdout",
     "output_type": "stream",
     "text": [
      "Image URL: https://m.media-amazon.com/images/I/61wzlucTREL.jpg\n",
      "Extracted Text: ONE SIZE FITS 6 ALL STRETCHABLE AND BLACKFABRIC BLOCKS FORMFITTING THELIGHT EXPERT-GRADE GEL NON-TOXIC NO SMELL FLEXIBLE COMFORTABLE FOR COLD ORHOT THERAPY 3.1 in 5.3 5 22.2 in\n",
      "[2024/09/14 15:38:56] ppocr DEBUG: dt_boxes num : 12, elapsed : 0.13201427459716797\n",
      "[2024/09/14 15:38:56] ppocr DEBUG: cls num  : 12, elapsed : 0.017060041427612305\n",
      "[2024/09/14 15:38:57] ppocr DEBUG: rec_res num  : 12, elapsed : 0.8455119132995605\n"
     ]
    },
    {
     "name": "stderr",
     "output_type": "stream",
     "text": [
      "Processing Images:  47%|████▋     | 23/49 [00:39<00:37,  1.46s/it]"
     ]
    },
    {
     "name": "stdout",
     "output_type": "stream",
     "text": [
      "Image URL: https://m.media-amazon.com/images/I/61sQ+qAKr4L.jpg\n",
      "Extracted Text: 925 SterlingSilver 18K Gold Plated 0.28INCH (7MM) High Polish 0.07 INCH (1.8MM) 16+2 INCH Extend Chain Net Weight: 2.7G (405MM+50MM) Manual measurement, the size may be slightly different from the physical\n",
      "[2024/09/14 15:38:58] ppocr DEBUG: dt_boxes num : 22, elapsed : 0.14519309997558594\n",
      "[2024/09/14 15:38:58] ppocr DEBUG: cls num  : 22, elapsed : 0.12405204772949219\n",
      "[2024/09/14 15:38:59] ppocr DEBUG: rec_res num  : 22, elapsed : 0.8208179473876953\n"
     ]
    },
    {
     "name": "stderr",
     "output_type": "stream",
     "text": [
      "Processing Images:  49%|████▉     | 24/49 [00:41<00:37,  1.49s/it]"
     ]
    },
    {
     "name": "stdout",
     "output_type": "stream",
     "text": [
      "Image URL: https://m.media-amazon.com/images/I/81x77l2T5NL.jpg\n",
      "Extracted Text: Creating a sustainablefoodfuture for you and the planet Visit www.knorr.com/uk How to use Knorr Stock Pots: S GLUTEN NO ADDED AND FREE MSG PRESERVATIVES 4x28g=112g e eiher:dissolve the pot into 500ml of boiling or:add the water. pot directly to dish. Best Before End:\n",
      "[2024/09/14 15:38:59] ppocr DEBUG: dt_boxes num : 25, elapsed : 0.15143132209777832\n",
      "[2024/09/14 15:38:59] ppocr DEBUG: cls num  : 25, elapsed : 0.09134364128112793\n",
      "[2024/09/14 15:39:00] ppocr DEBUG: rec_res num  : 25, elapsed : 0.9833052158355713\n"
     ]
    },
    {
     "name": "stderr",
     "output_type": "stream",
     "text": [
      "Processing Images:  51%|█████     | 25/49 [00:42<00:35,  1.47s/it]"
     ]
    },
    {
     "name": "stdout",
     "output_type": "stream",
     "text": [
      "Image URL: https://m.media-amazon.com/images/I/71nywfWZUwL.jpg\n",
      "Extracted Text: 9.1cm/3.58\" 36.8cm/ 14.48\" 48V 13Ah 48V 17.5Ah 11.1cm/4.37 Downtube Battery Type 13Ah:2500m-A-h Battery Cell 17.5Ah:Sam-sung/L-G/Cell 3500mAh Send it randomly Charger 48V 13Ah (2A) Charger Output Current 48V 17.5Ah (4A) USB port BMS 30A Battery Weight. KG 4.1KG/4.4KG\n",
      "[2024/09/14 15:39:01] ppocr DEBUG: dt_boxes num : 25, elapsed : 0.26202940940856934\n",
      "[2024/09/14 15:39:01] ppocr DEBUG: cls num  : 25, elapsed : 0.04999709129333496\n",
      "[2024/09/14 15:39:01] ppocr DEBUG: rec_res num  : 25, elapsed : 0.7024602890014648\n"
     ]
    },
    {
     "name": "stderr",
     "output_type": "stream",
     "text": [
      "Processing Images:  53%|█████▎    | 26/49 [00:44<00:31,  1.37s/it]"
     ]
    },
    {
     "name": "stdout",
     "output_type": "stream",
     "text": [
      "Image URL: https://m.media-amazon.com/images/I/71nywfWZUwL.jpg\n",
      "Extracted Text: 9.1cm/3.58\" 36.8cm/ 14.48\" 48V 13Ah 48V 17.5Ah 11.1cm/4.37 Downtube Battery Type 13Ah:2500m-A-h Battery Cell 17.5Ah:Sam-sung/L-G/Cell 3500mAh Send it randomly Charger 48V 13Ah (2A) Charger Output Current 48V 17.5Ah (4A) USB port BMS 30A Battery Weight. KG 4.1KG/4.4KG\n",
      "[2024/09/14 15:39:02] ppocr DEBUG: dt_boxes num : 17, elapsed : 0.12297177314758301\n",
      "[2024/09/14 15:39:02] ppocr DEBUG: cls num  : 17, elapsed : 0.07632160186767578\n",
      "[2024/09/14 15:39:02] ppocr DEBUG: rec_res num  : 17, elapsed : 0.5677950382232666\n"
     ]
    },
    {
     "name": "stderr",
     "output_type": "stream",
     "text": [
      "Processing Images:  55%|█████▌    | 27/49 [00:44<00:26,  1.23s/it]"
     ]
    },
    {
     "name": "stdout",
     "output_type": "stream",
     "text": [
      "Image URL: https://m.media-amazon.com/images/I/51WsuKKAVrL.jpg\n",
      "Extracted Text: Product Name Harvest Festival Doll Product Size 15926CM Qty./Ctn. 96PCS Carton Size 52x42x40CM Material Polyester material Craftsmanship Manual Colour BrownYellow GreyOrange Product Weight 158g\n",
      "[2024/09/14 15:39:02] ppocr DEBUG: dt_boxes num : 3, elapsed : 0.12725043296813965\n",
      "[2024/09/14 15:39:02] ppocr DEBUG: cls num  : 3, elapsed : 0.054651737213134766\n",
      "[2024/09/14 15:39:03] ppocr DEBUG: rec_res num  : 3, elapsed : 0.14874649047851562\n"
     ]
    },
    {
     "name": "stderr",
     "output_type": "stream",
     "text": [
      "Processing Images:  57%|█████▋    | 28/49 [00:45<00:20,  1.01it/s]"
     ]
    },
    {
     "name": "stdout",
     "output_type": "stream",
     "text": [
      "Image URL: https://m.media-amazon.com/images/I/61XGDKap+JL.jpg\n",
      "Extracted Text: 158g 1580\n",
      "[2024/09/14 15:39:03] ppocr DEBUG: dt_boxes num : 9, elapsed : 0.13344907760620117\n",
      "[2024/09/14 15:39:03] ppocr DEBUG: cls num  : 9, elapsed : 0.06230449676513672\n",
      "[2024/09/14 15:39:04] ppocr DEBUG: rec_res num  : 9, elapsed : 0.5438277721405029\n"
     ]
    },
    {
     "name": "stderr",
     "output_type": "stream",
     "text": [
      "Processing Images:  59%|█████▉    | 29/49 [00:46<00:19,  1.02it/s]"
     ]
    },
    {
     "name": "stdout",
     "output_type": "stream",
     "text": [
      "Image URL: https://m.media-amazon.com/images/I/715vVcWJxGL.jpg\n",
      "Extracted Text: GMP NUVIDA NATURAL HEALTH CRANBERRY EXTRACT High Strength Extract for Natural Urinary Tract and Bladder Support SUITABLE FOR VEGETARIANS AND VEGANS 5000mg 90 Tablets FoodSupplement\n",
      "[2024/09/14 15:39:04] ppocr DEBUG: dt_boxes num : 14, elapsed : 0.1626451015472412\n",
      "[2024/09/14 15:39:04] ppocr DEBUG: cls num  : 14, elapsed : 0.07792496681213379\n",
      "[2024/09/14 15:39:05] ppocr DEBUG: rec_res num  : 14, elapsed : 0.6923151016235352\n"
     ]
    },
    {
     "name": "stderr",
     "output_type": "stream",
     "text": [
      "Processing Images:  61%|██████    | 30/49 [00:47<00:19,  1.02s/it]"
     ]
    },
    {
     "name": "stdout",
     "output_type": "stream",
     "text": [
      "Image URL: https://m.media-amazon.com/images/I/613v+2W4UwL.jpg\n",
      "Extracted Text: 50 mI Carvomin R Verdauungstropfen 18,55 g/20 ml Flussigkeit zum Einnehmen Wirkstoff: Auszug aus einer Mischung von Angelikawurzeln, Benediktenkraut und Pfefferminzblattern KLONGE PHARMA\n",
      "[2024/09/14 15:39:05] ppocr DEBUG: dt_boxes num : 47, elapsed : 0.28184986114501953\n",
      "[2024/09/14 15:39:05] ppocr DEBUG: cls num  : 47, elapsed : 0.12166404724121094\n",
      "[2024/09/14 15:39:07] ppocr DEBUG: rec_res num  : 47, elapsed : 1.4758741855621338\n"
     ]
    },
    {
     "name": "stderr",
     "output_type": "stream",
     "text": [
      "Processing Images:  63%|██████▎   | 31/49 [00:49<00:24,  1.35s/it]"
     ]
    },
    {
     "name": "stdout",
     "output_type": "stream",
     "text": [
      "Image URL: https://m.media-amazon.com/images/I/71+fn9TWQmL.jpg\n",
      "Extracted Text: 50n 50 mI Carvomin R arvom Verdauungstropfen Verdauungstropten hmel 18,55 g/20 ml m Einnehi 18.55g/20m Bkeit z Flussigkeit zum Einnehmen Zu 157 50 ml Wirkstoff Ase Benediktenkrau! Carvomin pflanzliches A Verdauungstuco Verdauungstropfen keit enthalten 16 Mischung von A 18,55 g/20 ml ferminzblattem Flussigkeit zum Wirkstoff: Enthalt 58V Einnehmen Auszug aus einer Mischung mittel fur Kine lagern.Das A von Angelikawurzeln ausschlieBlichar Benediktenkraut und dungsgebietre Pfefferminzblattern Krankheitssymco Packungsberag eine andere n KLONGE tieren.RegN. Zur Anwendung bei Erwachsenen Klinge Pharma PHARMA\n",
      "[2024/09/14 15:39:07] ppocr DEBUG: dt_boxes num : 42, elapsed : 0.13248038291931152\n",
      "[2024/09/14 15:39:07] ppocr DEBUG: cls num  : 42, elapsed : 0.10579323768615723\n",
      "[2024/09/14 15:39:09] ppocr DEBUG: rec_res num  : 42, elapsed : 1.2125062942504883\n"
     ]
    },
    {
     "name": "stderr",
     "output_type": "stream",
     "text": [
      "Processing Images:  65%|██████▌   | 32/49 [00:51<00:25,  1.49s/it]"
     ]
    },
    {
     "name": "stdout",
     "output_type": "stream",
     "text": [
      "Image URL: https://m.media-amazon.com/images/I/71aKgRRQ2wL.jpg\n",
      "Extracted Text: Carvonin 50 mI Ierdaungstonfien Carvomin 1855g20m Verdauungstropfen wendune 18,55 g/20 ml Flussigkeit zum Einnehmen OCKAUn &SDeil 50 ml Wirkstoff: Asu Benediktenkrau! Carvomin pflanzliches Am Verdauungstro Verdauungstropfen keit enthalten Mischung von  18,55 g/20 ml Wirkstoff: ferminzblattem Flussigkeit zum Enthalt 58Va Auszug aus einer Mischung Einnehmen mittel fur Kine von Angelikawurzeln, lagern.Das A Benediktenkraut und ausschlieBlichar. dungsgebiere Pfefferminzblattern Krankheitssymo Packungstelag  KLONGE eine andere ng tieren.Reg-N. PHARMA Zur Anwendung Klinge Pharma bei Erwachsenen\n",
      "[2024/09/14 15:39:09] ppocr DEBUG: dt_boxes num : 26, elapsed : 0.14240050315856934\n",
      "[2024/09/14 15:39:09] ppocr DEBUG: cls num  : 26, elapsed : 0.09335160255432129\n",
      "[2024/09/14 15:39:10] ppocr DEBUG: rec_res num  : 26, elapsed : 0.923058271408081\n"
     ]
    },
    {
     "name": "stderr",
     "output_type": "stream",
     "text": [
      "Processing Images:  67%|██████▋   | 33/49 [00:52<00:23,  1.44s/it]"
     ]
    },
    {
     "name": "stdout",
     "output_type": "stream",
     "text": [
      "Image URL: https://m.media-amazon.com/images/I/71rKXZJrh4L.jpg\n",
      "Extracted Text: 50.m 50 ml Carvomin arvom Verdauungstropfen Veroaungstropten 18,55 g/20 ml 18.55g/20m Flussigkeit zum Einnehmen FliSsie AnWer 552 LUSZUS 13 Wirkstoff: Auszug aus einer Mischung von Angelikawurzeln, Benediktenkraut und Pfefferminzblattern KLONGE PHARMA\n",
      "[2024/09/14 15:39:11] ppocr DEBUG: dt_boxes num : 20, elapsed : 0.26769351959228516\n",
      "[2024/09/14 15:39:11] ppocr DEBUG: cls num  : 20, elapsed : 0.03805232048034668\n",
      "[2024/09/14 15:39:11] ppocr DEBUG: rec_res num  : 20, elapsed : 0.7346229553222656\n"
     ]
    },
    {
     "name": "stderr",
     "output_type": "stream",
     "text": [
      "Processing Images:  69%|██████▉   | 34/49 [00:54<00:21,  1.42s/it]"
     ]
    },
    {
     "name": "stdout",
     "output_type": "stream",
     "text": [
      "Image URL: https://m.media-amazon.com/images/I/71D824lbRvL.jpg\n",
      "Extracted Text: carvonin 50 mI lerdauungstronfien Carvomin 1855g20m Verdauungstropfen 18,55g/20 ml Flussigkeit zum Einnehmen Wirkstoff: Auszug aus einer Mischung von Angelikawurzeln Benediktenkraut und Pfefferminzblattern KLONGE PHARMA\n",
      "[2024/09/14 15:39:13] ppocr DEBUG: dt_boxes num : 9, elapsed : 0.12976360321044922\n",
      "[2024/09/14 15:39:13] ppocr DEBUG: cls num  : 9, elapsed : 0.06987738609313965\n",
      "[2024/09/14 15:39:13] ppocr DEBUG: rec_res num  : 9, elapsed : 0.3103775978088379\n"
     ]
    },
    {
     "name": "stderr",
     "output_type": "stream",
     "text": [
      "Processing Images:  71%|███████▏  | 35/49 [00:55<00:20,  1.46s/it]"
     ]
    },
    {
     "name": "stdout",
     "output_type": "stream",
     "text": [
      "Image URL: https://m.media-amazon.com/images/I/71004c9tzfL.jpg\n",
      "Extracted Text: 65:62 USB CHARGING  PORTS 50 MODE UP DOWN\n",
      "[2024/09/14 15:39:13] ppocr DEBUG: dt_boxes num : 7, elapsed : 0.12252235412597656\n",
      "[2024/09/14 15:39:13] ppocr DEBUG: cls num  : 7, elapsed : 0.06766009330749512\n",
      "[2024/09/14 15:39:14] ppocr DEBUG: rec_res num  : 7, elapsed : 0.6039149761199951\n"
     ]
    },
    {
     "name": "stderr",
     "output_type": "stream",
     "text": [
      "Processing Images:  73%|███████▎  | 36/49 [00:56<00:16,  1.30s/it]"
     ]
    },
    {
     "name": "stdout",
     "output_type": "stream",
     "text": [
      "Image URL: https://m.media-amazon.com/images/I/51bQPPtMqYL.jpg\n",
      "Extracted Text: How to Use. Place the curtain between the counterweight and the magnet 4cm/1.6in Weight:26g Load-bearing metalblock\n",
      "[2024/09/14 15:39:14] ppocr DEBUG: dt_boxes num : 5, elapsed : 0.12074971199035645\n",
      "[2024/09/14 15:39:14] ppocr DEBUG: cls num  : 5, elapsed : 0.05532717704772949\n",
      "[2024/09/14 15:39:15] ppocr DEBUG: rec_res num  : 5, elapsed : 0.46061038970947266\n"
     ]
    },
    {
     "name": "stderr",
     "output_type": "stream",
     "text": [
      "Processing Images:  76%|███████▌  | 37/49 [00:57<00:13,  1.13s/it]"
     ]
    },
    {
     "name": "stdout",
     "output_type": "stream",
     "text": [
      "Image URL: https://m.media-amazon.com/images/I/61o2ntPNNgL.jpg\n",
      "Extracted Text: 28\" ZFREEWHEELS 800W36V GABELMINDESTBREITE135MM HINTERRADMITBRUSHLESSMOTOR\n",
      "[2024/09/14 15:39:15] ppocr DEBUG: dt_boxes num : 5, elapsed : 0.12929368019104004\n",
      "[2024/09/14 15:39:15] ppocr DEBUG: cls num  : 5, elapsed : 0.012994766235351562\n",
      "[2024/09/14 15:39:15] ppocr DEBUG: rec_res num  : 5, elapsed : 0.3413546085357666\n"
     ]
    },
    {
     "name": "stderr",
     "output_type": "stream",
     "text": [
      "Processing Images:  78%|███████▊  | 38/49 [00:57<00:10,  1.03it/s]"
     ]
    },
    {
     "name": "stdout",
     "output_type": "stream",
     "text": [
      "Image URL: https://m.media-amazon.com/images/I/61o2ntPNNgL.jpg\n",
      "Extracted Text: 28\" ZFREEWHEELS 800W36V GABELMINDESTBREITE135MM HINTERRADMITBRUSHLESSMOTOR\n",
      "[2024/09/14 15:39:16] ppocr DEBUG: dt_boxes num : 18, elapsed : 0.14949250221252441\n",
      "[2024/09/14 15:39:16] ppocr DEBUG: cls num  : 18, elapsed : 0.06990575790405273\n",
      "[2024/09/14 15:39:18] ppocr DEBUG: rec_res num  : 18, elapsed : 1.9868476390838623\n"
     ]
    },
    {
     "name": "stderr",
     "output_type": "stream",
     "text": [
      "Processing Images:  80%|███████▉  | 39/49 [01:00<00:14,  1.44s/it]"
     ]
    },
    {
     "name": "stdout",
     "output_type": "stream",
     "text": [
      "Image URL: https://m.media-amazon.com/images/I/71IUuTJ8QwL.jpg\n",
      "Extracted Text: Superior Quality Put durability,safety,and environmental protection first Honeycomb Surface Offers solid performance and ensures that the yoga ball won't burst suddenly. Explosion-Proof Design Provides the best protection and prevents injuries, EnvironmentallyFriendly Material Just use it with confidence knowing it's made >poI of environmentally friendly material. No Sticking Rest assuredthat the surface won't stickto your skin, clothing, floor, and much more. 330lbs Load Bearing Never worry about the load-bearing capacity of this yoga ball as it can support up to 330lbs\n",
      "[2024/09/14 15:39:18] ppocr DEBUG: dt_boxes num : 9, elapsed : 0.2553577423095703\n",
      "[2024/09/14 15:39:18] ppocr DEBUG: cls num  : 9, elapsed : 0.0702829360961914\n",
      "[2024/09/14 15:39:19] ppocr DEBUG: rec_res num  : 9, elapsed : 0.398998498916626\n"
     ]
    },
    {
     "name": "stderr",
     "output_type": "stream",
     "text": [
      "Processing Images:  82%|████████▏ | 40/49 [01:01<00:12,  1.35s/it]"
     ]
    },
    {
     "name": "stdout",
     "output_type": "stream",
     "text": [
      "Image URL: https://m.media-amazon.com/images/I/915JHkwtcrL.jpg\n",
      "Extracted Text: 51*70 IN 31 0Z GARDEN soft  ventilate warm and Particularly smooth Comfortable to skin\n",
      "[2024/09/14 15:39:21] ppocr DEBUG: dt_boxes num : 18, elapsed : 0.5630090236663818\n",
      "[2024/09/14 15:39:21] ppocr DEBUG: cls num  : 18, elapsed : 0.03936648368835449\n",
      "[2024/09/14 15:39:22] ppocr DEBUG: rec_res num  : 18, elapsed : 1.1561882495880127\n"
     ]
    },
    {
     "name": "stderr",
     "output_type": "stream",
     "text": [
      "Processing Images:  84%|████████▎ | 41/49 [01:04<00:14,  1.82s/it]"
     ]
    },
    {
     "name": "stdout",
     "output_type": "stream",
     "text": [
      "Image URL: https://m.media-amazon.com/images/I/71cjrYndwIL.jpg\n",
      "Extracted Text: SKINFOOD SALMON DARK CIRCLE CONCEALER This concentrated and creamy concealer contains salmon ingredients which effectively help conceal dark under eye circles and brighten the eyes. To use : After applying your foundation dispense an adequate amount and gently tap onto dark circles around your eye area #2 809221274243 Dist.SKINFOOD USA,INC.1 Technology Drive Bldg.B,Suite B113 Irvine,California,92618 www.theskinfood.com 10g/Net wt.0.35oz Made in Korea OPEN HERE\n",
      "[2024/09/14 15:39:23] ppocr DEBUG: dt_boxes num : 72, elapsed : 0.5323212146759033\n",
      "[2024/09/14 15:39:23] ppocr DEBUG: cls num  : 72, elapsed : 0.15299177169799805\n",
      "[2024/09/14 15:39:26] ppocr DEBUG: rec_res num  : 72, elapsed : 3.4676413536071777\n"
     ]
    },
    {
     "name": "stderr",
     "output_type": "stream",
     "text": [
      "Processing Images:  86%|████████▌ | 42/49 [01:09<00:18,  2.65s/it]"
     ]
    },
    {
     "name": "stdout",
     "output_type": "stream",
     "text": [
      "Image URL: https://m.media-amazon.com/images/I/81hnk2WXO3L.jpg\n",
      "Extracted Text: hot'chocolate BOMBS Made with Belgian Chocolate inc/udes Mini Marshmallows Milk Double Salted Peppermint Chocolate Chocolate Caramel ORIGINAL INGREDIENTS:SUGARCOCOA BUTTERWHOLE MILK POWDER Nutrition Facts MARSHMALLOWS SUGARGLUCOSE SYRUPGELATINSORBITOLMODIFIED CORN STARCH.DEXTROSE,ARTFICIAL FLAVOR,TETRASODIUM PYROPHOSPHATE.COCOA MASSEMULSIFIERS (SOY LECITHIN.PGPR 16 serving per container. VANILLA EXTRACT Serving size1 Package (35g) CONTAINS:MILK,SOY. Amount per serving SALTED CARAMEL INGREDIENTS:SUGAR.COCOA BUTTER,WHOLE MILK 180 POWDER.MARSHMALLOWS SUGAR.GLUCOSE SYRUP.GELATIN.SORBITOL Calories MODIFIED CORN STARCH.DEXTROSE,ARTFICIAL FLAVOR.TETRASODIUM PYROPHOSPHATE.COCOA MASS.EMULSIFIERS (SOY LECITHINPGPR) VANILLAEXTRACT.SALT.CARAMEL FLAVOR % Daily Value* CONTAINS:MILK,SOY. Total Fat 9g 12% PEPPERMINT INGREDIENTS:SUGARCOCOA BUTTER.WHOLE MILK POWDER Saturated Fat 5g 25% MARSHMALLOWS (SUGAR.GLUCOSE SYRUP.GELATIN.SORBITOL MODIFIED CORN STARCH.DEXTROSE,ARTFICIAL FLAVOR.TETRASODIUM Trans Fat Og PYROPHOSPHATECOCOA MAS.EMULSIFIERS (SOY LECITHIN.PGPR Cholesterol 5mg 2% VANILLA EXTRACT.PEPPERMINT FLAVOR. BB Sodium 20mg CONTAINS:MILK.SOY 1% Total Carbohydrate 22g 8% DOUBLE CHOCOLATE INGREDIENTS: SUGAR.COCOA BUTTER.COCOA MASS. WHOLE MILK POWDER,MARSHMALLOWS (SUGAR.GLUCOSE SYRUP.GELATIN Dietary Fiber <1g 2% SORBITOL.MODIFIED CORN STARCH.DEXTROSE,ARTFICIAL FLAVOR, TETRASODIUM PYROPHOSPHATE).EMULSIFIERS (SOY LECITHIN.PGPR) Total Sugars 21g VANILLA EXTRACT Includes 21g Added Sugars 42% CONTAINS:MILK.SOY. Protein 2g DISTRIBUTEDBY FRANKFORD CANDY LLC PHILADELPHIA,PA 19114 Vit. D 0mcg 0%Calcium 45mg 2% CHOCOLATE MADE IN BELGIUM Iron 0.6mg 2%Potas.75mg 2% MOLDED AND PACKED IN CHINA MARSHMALLOWS MADE IN CHINA  The % Daily Value (DV) tells you how much www.frankfordcandy.com  a nutrient in a serving of food contributes to  a daily diet. 2,000 calories a day is used for Frankford  general nutrition advice.\n",
      "[2024/09/14 15:39:27] ppocr DEBUG: dt_boxes num : 2, elapsed : 0.7230310440063477\n",
      "[2024/09/14 15:39:27] ppocr DEBUG: cls num  : 2, elapsed : 0.06590795516967773\n",
      "[2024/09/14 15:39:27] ppocr DEBUG: rec_res num  : 2, elapsed : 0.1380631923675537\n"
     ]
    },
    {
     "name": "stderr",
     "output_type": "stream",
     "text": [
      "Processing Images:  88%|████████▊ | 43/49 [01:10<00:13,  2.18s/it]"
     ]
    },
    {
     "name": "stdout",
     "output_type": "stream",
     "text": [
      "Image URL: https://m.media-amazon.com/images/I/61HXgujoxpL.jpg\n",
      "Extracted Text: IP65 150W\n",
      "[2024/09/14 15:39:28] ppocr DEBUG: dt_boxes num : 10, elapsed : 0.13818645477294922\n",
      "[2024/09/14 15:39:28] ppocr DEBUG: cls num  : 10, elapsed : 0.12021327018737793\n",
      "[2024/09/14 15:39:28] ppocr DEBUG: rec_res num  : 10, elapsed : 0.4501457214355469\n"
     ]
    },
    {
     "name": "stderr",
     "output_type": "stream",
     "text": [
      "Processing Images:  90%|████████▉ | 44/49 [01:11<00:09,  1.82s/it]"
     ]
    },
    {
     "name": "stdout",
     "output_type": "stream",
     "text": [
      "Image URL: https://m.media-amazon.com/images/I/613G8GOyLSL.jpg\n",
      "Extracted Text: 220mm/8.66in 150W IP65 305mm/12.00in 32mm/1.25in Ground Wall Ceiling\n",
      "[2024/09/14 15:39:29] ppocr DEBUG: dt_boxes num : 11, elapsed : 0.15043854713439941\n",
      "[2024/09/14 15:39:29] ppocr DEBUG: cls num  : 11, elapsed : 0.06997466087341309\n",
      "[2024/09/14 15:39:29] ppocr DEBUG: rec_res num  : 11, elapsed : 0.5900824069976807\n"
     ]
    },
    {
     "name": "stderr",
     "output_type": "stream",
     "text": [
      "Processing Images:  92%|█████████▏| 45/49 [01:12<00:06,  1.57s/it]"
     ]
    },
    {
     "name": "stdout",
     "output_type": "stream",
     "text": [
      "Image URL: https://m.media-amazon.com/images/I/71YyZ2iPyZL.jpg\n",
      "Extracted Text: Durable & Flexible LED Floodlight Thickened Glass High-Quality LEDs Die-Cast Alumium Frame IP65 30W Mental Bracket\n",
      "[2024/09/14 15:39:30] ppocr DEBUG: dt_boxes num : 9, elapsed : 0.1230318546295166\n",
      "[2024/09/14 15:39:30] ppocr DEBUG: cls num  : 9, elapsed : 0.06964397430419922\n",
      "[2024/09/14 15:39:30] ppocr DEBUG: rec_res num  : 9, elapsed : 0.33678340911865234\n"
     ]
    },
    {
     "name": "stderr",
     "output_type": "stream",
     "text": [
      "Processing Images:  94%|█████████▍| 46/49 [01:12<00:03,  1.31s/it]"
     ]
    },
    {
     "name": "stdout",
     "output_type": "stream",
     "text": [
      "Image URL: https://m.media-amazon.com/images/I/81K3JwUCnQL.jpg\n",
      "Extracted Text: 1P65 30W IP65 waterproof Dustproof Heat-resisting Frost-resistant\n",
      "[2024/09/14 15:39:31] ppocr DEBUG: dt_boxes num : 8, elapsed : 0.4753532409667969\n",
      "[2024/09/14 15:39:31] ppocr DEBUG: cls num  : 8, elapsed : 0.07367515563964844\n",
      "[2024/09/14 15:39:31] ppocr DEBUG: rec_res num  : 8, elapsed : 0.2714855670928955\n"
     ]
    },
    {
     "name": "stderr",
     "output_type": "stream",
     "text": [
      "Processing Images:  96%|█████████▌| 47/49 [01:13<00:02,  1.19s/it]"
     ]
    },
    {
     "name": "stdout",
     "output_type": "stream",
     "text": [
      "Image URL: https://m.media-amazon.com/images/I/41wvffSxB4L.jpg\n",
      "Extracted Text: 15.5g 50cm 4cm BF EST FRIF ANDS 3.5cm\n",
      "[2024/09/14 15:39:32] ppocr DEBUG: dt_boxes num : 6, elapsed : 0.24298906326293945\n",
      "[2024/09/14 15:39:32] ppocr DEBUG: cls num  : 6, elapsed : 0.059409379959106445\n",
      "[2024/09/14 15:39:32] ppocr DEBUG: rec_res num  : 6, elapsed : 0.5231935977935791\n"
     ]
    },
    {
     "name": "stderr",
     "output_type": "stream",
     "text": [
      "Processing Images:  98%|█████████▊| 48/49 [01:14<00:01,  1.20s/it]"
     ]
    },
    {
     "name": "stdout",
     "output_type": "stream",
     "text": [
      "Image URL: https://m.media-amazon.com/images/I/91cErO-KbLL.jpg\n",
      "Extracted Text: JACQUARD KNITTED MATERIAL Super soft and comfortable creating a custom upholstered look 200GSM Microfiber\n",
      "[2024/09/14 15:39:33] ppocr DEBUG: dt_boxes num : 12, elapsed : 0.1219325065612793\n",
      "[2024/09/14 15:39:33] ppocr DEBUG: cls num  : 12, elapsed : 0.0300445556640625\n",
      "[2024/09/14 15:39:34] ppocr DEBUG: rec_res num  : 12, elapsed : 1.6798467636108398\n"
     ]
    },
    {
     "name": "stderr",
     "output_type": "stream",
     "text": [
      "Processing Images: 100%|██████████| 49/49 [01:17<00:00,  1.57s/it]"
     ]
    },
    {
     "name": "stdout",
     "output_type": "stream",
     "text": [
      "Image URL: https://m.media-amazon.com/images/I/817vo3DcCNL.jpg\n",
      "Extracted Text: KOMFORT-PAKET DAS HERZSTUCK : STARKER UND EFFIZIENTER MOTOR FUR ANGENEHMEN FAHRKOMFORT KRAFTVOLLE UND EFFIZIENTE EXTREM LEISERUND UNGLAUBLICHES DREHMOMENT UNTERSTUTZUNG BIS LEISTUNGSSTARKERMOTOR MIT VON 25 KM/H 250 W 45 NM\n"
     ]
    },
    {
     "name": "stderr",
     "output_type": "stream",
     "text": [
      "\n"
     ]
    }
   ],
   "source": [
    "from tqdm import tqdm\n",
    "\n",
    "for idx, row in tqdm(train_df.iterrows(), total=train_df.shape[0], desc=\"Processing Images\"):\n",
    "    image_url = row['image_link']\n",
    "\n",
    "    # Process the image and extract text\n",
    "    extracted_text = process_image_from_url(image_url)\n",
    "\n",
    "    # Print or store the extracted text as needed\n",
    "    print(f\"Image URL: {image_url}\")\n",
    "    print(f\"Extracted Text: {extracted_text}\")"
   ]
  },
  {
   "cell_type": "code",
   "execution_count": 5,
   "metadata": {},
   "outputs": [
    {
     "name": "stdout",
     "output_type": "stream",
     "text": [
      "[2024/09/14 15:39:58] ppocr DEBUG: dt_boxes num : 19, elapsed : 0.14313936233520508\n",
      "[2024/09/14 15:39:58] ppocr DEBUG: cls num  : 19, elapsed : 0.08128881454467773\n",
      "[2024/09/14 15:39:59] ppocr DEBUG: rec_res num  : 19, elapsed : 1.044745922088623\n",
      "[2024/09/14 15:40:00] ppocr DEBUG: dt_boxes num : 19, elapsed : 0.14001226425170898\n",
      "[2024/09/14 15:40:00] ppocr DEBUG: cls num  : 19, elapsed : 0.03688502311706543\n",
      "[2024/09/14 15:40:01] ppocr DEBUG: rec_res num  : 19, elapsed : 0.7748618125915527\n",
      "[2024/09/14 15:40:01] ppocr DEBUG: dt_boxes num : 53, elapsed : 0.26578593254089355\n",
      "[2024/09/14 15:40:01] ppocr DEBUG: cls num  : 53, elapsed : 0.22244668006896973\n",
      "[2024/09/14 15:40:03] ppocr DEBUG: rec_res num  : 53, elapsed : 2.2711856365203857\n",
      "[2024/09/14 15:40:04] ppocr DEBUG: dt_boxes num : 45, elapsed : 0.15004873275756836\n",
      "[2024/09/14 15:40:04] ppocr DEBUG: cls num  : 45, elapsed : 0.11779165267944336\n",
      "[2024/09/14 15:40:06] ppocr DEBUG: rec_res num  : 45, elapsed : 2.357625722885132\n",
      "[2024/09/14 15:40:07] ppocr DEBUG: dt_boxes num : 13, elapsed : 0.13178467750549316\n",
      "[2024/09/14 15:40:07] ppocr DEBUG: cls num  : 13, elapsed : 0.07925605773925781\n",
      "[2024/09/14 15:40:07] ppocr DEBUG: rec_res num  : 13, elapsed : 0.5312240123748779\n",
      "[2024/09/14 15:40:08] ppocr DEBUG: dt_boxes num : 17, elapsed : 0.2783360481262207\n",
      "[2024/09/14 15:40:08] ppocr DEBUG: cls num  : 17, elapsed : 0.11665868759155273\n",
      "[2024/09/14 15:40:08] ppocr DEBUG: rec_res num  : 17, elapsed : 0.796083927154541\n",
      "[2024/09/14 15:40:09] ppocr DEBUG: dt_boxes num : 37, elapsed : 0.14785361289978027\n",
      "[2024/09/14 15:40:09] ppocr DEBUG: cls num  : 37, elapsed : 0.07235550880432129\n",
      "[2024/09/14 15:40:12] ppocr DEBUG: rec_res num  : 37, elapsed : 2.4456868171691895\n",
      "[2024/09/14 15:40:12] ppocr DEBUG: dt_boxes num : 23, elapsed : 0.17527222633361816\n",
      "[2024/09/14 15:40:12] ppocr DEBUG: cls num  : 23, elapsed : 0.04038047790527344\n",
      "[2024/09/14 15:40:13] ppocr DEBUG: rec_res num  : 23, elapsed : 0.6936342716217041\n",
      "[2024/09/14 15:40:13] ppocr DEBUG: dt_boxes num : 23, elapsed : 0.25440216064453125\n",
      "[2024/09/14 15:40:13] ppocr DEBUG: cls num  : 23, elapsed : 0.12148380279541016\n",
      "[2024/09/14 15:40:14] ppocr DEBUG: rec_res num  : 23, elapsed : 0.708341121673584\n",
      "[2024/09/14 15:40:14] ppocr DEBUG: dt_boxes num : 30, elapsed : 0.13128280639648438\n",
      "[2024/09/14 15:40:14] ppocr DEBUG: cls num  : 30, elapsed : 0.048207759857177734\n",
      "[2024/09/14 15:40:16] ppocr DEBUG: rec_res num  : 30, elapsed : 1.1366207599639893\n",
      "[2024/09/14 15:40:16] ppocr DEBUG: dt_boxes num : 7, elapsed : 0.1346743106842041\n",
      "[2024/09/14 15:40:16] ppocr DEBUG: cls num  : 7, elapsed : 0.06959414482116699\n",
      "[2024/09/14 15:40:17] ppocr DEBUG: rec_res num  : 7, elapsed : 1.0168118476867676\n",
      "[2024/09/14 15:40:17] ppocr DEBUG: dt_boxes num : 20, elapsed : 0.13132333755493164\n",
      "[2024/09/14 15:40:17] ppocr DEBUG: cls num  : 20, elapsed : 0.0967261791229248\n",
      "[2024/09/14 15:40:18] ppocr DEBUG: rec_res num  : 20, elapsed : 0.5280139446258545\n",
      "[2024/09/14 15:40:19] ppocr DEBUG: dt_boxes num : 28, elapsed : 0.2573728561401367\n",
      "[2024/09/14 15:40:19] ppocr DEBUG: cls num  : 28, elapsed : 0.13501787185668945\n",
      "[2024/09/14 15:40:20] ppocr DEBUG: rec_res num  : 28, elapsed : 0.7910001277923584\n",
      "[2024/09/14 15:40:20] ppocr DEBUG: dt_boxes num : 19, elapsed : 0.14668989181518555\n",
      "[2024/09/14 15:40:20] ppocr DEBUG: cls num  : 19, elapsed : 0.038265228271484375\n",
      "[2024/09/14 15:40:21] ppocr DEBUG: rec_res num  : 19, elapsed : 0.8488757610321045\n",
      "[2024/09/14 15:40:21] ppocr DEBUG: dt_boxes num : 58, elapsed : 0.15508413314819336\n",
      "[2024/09/14 15:40:22] ppocr DEBUG: cls num  : 58, elapsed : 0.09600949287414551\n",
      "[2024/09/14 15:40:24] ppocr DEBUG: rec_res num  : 58, elapsed : 1.9555141925811768\n",
      "[2024/09/14 15:40:24] ppocr DEBUG: dt_boxes num : 24, elapsed : 0.13330459594726562\n",
      "[2024/09/14 15:40:24] ppocr DEBUG: cls num  : 24, elapsed : 0.045522212982177734\n",
      "[2024/09/14 15:40:25] ppocr DEBUG: rec_res num  : 24, elapsed : 0.9582674503326416\n",
      "[2024/09/14 15:40:26] ppocr DEBUG: dt_boxes num : 10, elapsed : 0.431438684463501\n",
      "[2024/09/14 15:40:26] ppocr DEBUG: cls num  : 10, elapsed : 0.1073002815246582\n",
      "[2024/09/14 15:40:26] ppocr DEBUG: rec_res num  : 10, elapsed : 0.36212825775146484\n",
      "[2024/09/14 15:40:27] ppocr DEBUG: dt_boxes num : 38, elapsed : 0.0775609016418457\n",
      "[2024/09/14 15:40:27] ppocr DEBUG: cls num  : 38, elapsed : 0.11343073844909668\n",
      "[2024/09/14 15:40:29] ppocr DEBUG: rec_res num  : 38, elapsed : 1.8209342956542969\n",
      "[2024/09/14 15:40:29] ppocr DEBUG: dt_boxes num : 43, elapsed : 0.39126014709472656\n",
      "[2024/09/14 15:40:29] ppocr DEBUG: cls num  : 43, elapsed : 0.11653780937194824\n",
      "[2024/09/14 15:40:31] ppocr DEBUG: rec_res num  : 43, elapsed : 1.52598237991333\n",
      "[2024/09/14 15:40:32] ppocr DEBUG: dt_boxes num : 19, elapsed : 0.7070150375366211\n",
      "[2024/09/14 15:40:32] ppocr DEBUG: cls num  : 19, elapsed : 0.07624554634094238\n",
      "[2024/09/14 15:40:33] ppocr DEBUG: rec_res num  : 19, elapsed : 0.7509105205535889\n",
      "[2024/09/14 15:40:33] ppocr DEBUG: dt_boxes num : 3, elapsed : 0.32280635833740234\n",
      "[2024/09/14 15:40:33] ppocr DEBUG: cls num  : 3, elapsed : 0.057466983795166016\n",
      "[2024/09/14 15:40:34] ppocr DEBUG: rec_res num  : 3, elapsed : 0.1478710174560547\n",
      "[2024/09/14 15:40:34] ppocr DEBUG: dt_boxes num : 15, elapsed : 0.7202954292297363\n",
      "[2024/09/14 15:40:34] ppocr DEBUG: cls num  : 15, elapsed : 0.027176856994628906\n",
      "[2024/09/14 15:40:35] ppocr DEBUG: rec_res num  : 15, elapsed : 0.7794070243835449\n",
      "[2024/09/14 15:40:35] ppocr DEBUG: dt_boxes num : 12, elapsed : 0.12736010551452637\n",
      "[2024/09/14 15:40:35] ppocr DEBUG: cls num  : 12, elapsed : 0.02135324478149414\n",
      "[2024/09/14 15:40:36] ppocr DEBUG: rec_res num  : 12, elapsed : 0.8586525917053223\n",
      "[2024/09/14 15:40:37] ppocr DEBUG: dt_boxes num : 22, elapsed : 0.13324594497680664\n",
      "[2024/09/14 15:40:37] ppocr DEBUG: cls num  : 22, elapsed : 0.13267278671264648\n",
      "[2024/09/14 15:40:38] ppocr DEBUG: rec_res num  : 22, elapsed : 0.8503050804138184\n",
      "[2024/09/14 15:40:38] ppocr DEBUG: dt_boxes num : 25, elapsed : 0.14597439765930176\n",
      "[2024/09/14 15:40:38] ppocr DEBUG: cls num  : 25, elapsed : 0.09100127220153809\n",
      "[2024/09/14 15:40:39] ppocr DEBUG: rec_res num  : 25, elapsed : 1.015733003616333\n",
      "[2024/09/14 15:40:40] ppocr DEBUG: dt_boxes num : 25, elapsed : 0.2666034698486328\n",
      "[2024/09/14 15:40:40] ppocr DEBUG: cls num  : 25, elapsed : 0.04246926307678223\n",
      "[2024/09/14 15:40:41] ppocr DEBUG: rec_res num  : 25, elapsed : 0.7058506011962891\n",
      "[2024/09/14 15:40:41] ppocr DEBUG: dt_boxes num : 17, elapsed : 0.12546300888061523\n",
      "[2024/09/14 15:40:41] ppocr DEBUG: cls num  : 17, elapsed : 0.06968832015991211\n",
      "[2024/09/14 15:40:41] ppocr DEBUG: rec_res num  : 17, elapsed : 0.5877375602722168\n",
      "[2024/09/14 15:40:42] ppocr DEBUG: dt_boxes num : 3, elapsed : 0.12071657180786133\n",
      "[2024/09/14 15:40:42] ppocr DEBUG: cls num  : 3, elapsed : 0.05511784553527832\n",
      "[2024/09/14 15:40:42] ppocr DEBUG: rec_res num  : 3, elapsed : 0.1489403247833252\n",
      "[2024/09/14 15:40:42] ppocr DEBUG: dt_boxes num : 9, elapsed : 0.1328120231628418\n",
      "[2024/09/14 15:40:42] ppocr DEBUG: cls num  : 9, elapsed : 0.0580899715423584\n",
      "[2024/09/14 15:40:43] ppocr DEBUG: rec_res num  : 9, elapsed : 0.571051836013794\n",
      "[2024/09/14 15:40:43] ppocr DEBUG: dt_boxes num : 14, elapsed : 0.13437819480895996\n",
      "[2024/09/14 15:40:43] ppocr DEBUG: cls num  : 14, elapsed : 0.08325362205505371\n",
      "[2024/09/14 15:40:44] ppocr DEBUG: rec_res num  : 14, elapsed : 0.7282230854034424\n",
      "[2024/09/14 15:40:44] ppocr DEBUG: dt_boxes num : 47, elapsed : 0.2771310806274414\n",
      "[2024/09/14 15:40:45] ppocr DEBUG: cls num  : 47, elapsed : 0.12158703804016113\n",
      "[2024/09/14 15:40:46] ppocr DEBUG: rec_res num  : 47, elapsed : 1.475200891494751\n",
      "[2024/09/14 15:40:47] ppocr DEBUG: dt_boxes num : 42, elapsed : 0.13370370864868164\n",
      "[2024/09/14 15:40:47] ppocr DEBUG: cls num  : 42, elapsed : 0.1187441349029541\n",
      "[2024/09/14 15:40:48] ppocr DEBUG: rec_res num  : 42, elapsed : 1.2663609981536865\n",
      "Error processing image from https://m.media-amazon.com/images/I/71rKXZJrh4L.jpg: HTTPSConnectionPool(host='m.media-amazon.com', port=443): Max retries exceeded with url: /images/I/71rKXZJrh4L.jpg (Caused by SSLError(SSLError(1, '[SSL: TLSV1_ALERT_INTERNAL_ERROR] tlsv1 alert internal error (_ssl.c:1000)')))\n",
      "[2024/09/14 15:40:49] ppocr DEBUG: dt_boxes num : 20, elapsed : 0.13645172119140625\n",
      "[2024/09/14 15:40:50] ppocr DEBUG: cls num  : 20, elapsed : 0.09983992576599121\n",
      "[2024/09/14 15:40:50] ppocr DEBUG: rec_res num  : 20, elapsed : 0.8149271011352539\n",
      "[2024/09/14 15:40:51] ppocr DEBUG: dt_boxes num : 9, elapsed : 0.24466633796691895\n",
      "[2024/09/14 15:40:51] ppocr DEBUG: cls num  : 9, elapsed : 0.06264996528625488\n",
      "[2024/09/14 15:40:51] ppocr DEBUG: rec_res num  : 9, elapsed : 0.32410120964050293\n",
      "[2024/09/14 15:40:51] ppocr DEBUG: dt_boxes num : 7, elapsed : 0.12657761573791504\n",
      "[2024/09/14 15:40:51] ppocr DEBUG: cls num  : 7, elapsed : 0.06452536582946777\n",
      "[2024/09/14 15:40:52] ppocr DEBUG: rec_res num  : 7, elapsed : 0.6200892925262451\n",
      "Error processing image from https://m.media-amazon.com/images/I/61o2ntPNNgL.jpg: HTTPSConnectionPool(host='m.media-amazon.com', port=443): Max retries exceeded with url: /images/I/61o2ntPNNgL.jpg (Caused by SSLError(SSLError(1, '[SSL: TLSV1_ALERT_INTERNAL_ERROR] tlsv1 alert internal error (_ssl.c:1000)')))\n",
      "Error processing image from https://m.media-amazon.com/images/I/61o2ntPNNgL.jpg: HTTPSConnectionPool(host='m.media-amazon.com', port=443): Max retries exceeded with url: /images/I/61o2ntPNNgL.jpg (Caused by SSLError(SSLError(1, '[SSL: TLSV1_ALERT_INTERNAL_ERROR] tlsv1 alert internal error (_ssl.c:1000)')))\n",
      "Error processing image from https://m.media-amazon.com/images/I/71IUuTJ8QwL.jpg: HTTPSConnectionPool(host='m.media-amazon.com', port=443): Max retries exceeded with url: /images/I/71IUuTJ8QwL.jpg (Caused by SSLError(SSLError(1, '[SSL: TLSV1_ALERT_INTERNAL_ERROR] tlsv1 alert internal error (_ssl.c:1000)')))\n",
      "Error processing image from https://m.media-amazon.com/images/I/915JHkwtcrL.jpg: HTTPSConnectionPool(host='m.media-amazon.com', port=443): Max retries exceeded with url: /images/I/915JHkwtcrL.jpg (Caused by SSLError(SSLError(1, '[SSL: TLSV1_ALERT_INTERNAL_ERROR] tlsv1 alert internal error (_ssl.c:1000)')))\n",
      "[2024/09/14 15:40:57] ppocr DEBUG: dt_boxes num : 18, elapsed : 0.6571109294891357\n",
      "[2024/09/14 15:40:57] ppocr DEBUG: cls num  : 18, elapsed : 0.08401799201965332\n",
      "[2024/09/14 15:40:59] ppocr DEBUG: rec_res num  : 18, elapsed : 1.3119182586669922\n",
      "[2024/09/14 15:41:00] ppocr DEBUG: dt_boxes num : 72, elapsed : 0.5527064800262451\n",
      "[2024/09/14 15:41:00] ppocr DEBUG: cls num  : 72, elapsed : 0.1146090030670166\n",
      "[2024/09/14 15:41:03] ppocr DEBUG: rec_res num  : 72, elapsed : 3.569528818130493\n",
      "[2024/09/14 15:41:04] ppocr DEBUG: dt_boxes num : 2, elapsed : 0.7325751781463623\n",
      "[2024/09/14 15:41:04] ppocr DEBUG: cls num  : 2, elapsed : 0.06059741973876953\n",
      "[2024/09/14 15:41:05] ppocr DEBUG: rec_res num  : 2, elapsed : 0.14960217475891113\n",
      "[2024/09/14 15:41:05] ppocr DEBUG: dt_boxes num : 10, elapsed : 0.14924407005310059\n",
      "[2024/09/14 15:41:05] ppocr DEBUG: cls num  : 10, elapsed : 0.12148928642272949\n",
      "[2024/09/14 15:41:06] ppocr DEBUG: rec_res num  : 10, elapsed : 0.5150966644287109\n",
      "[2024/09/14 15:41:06] ppocr DEBUG: dt_boxes num : 11, elapsed : 0.12520289421081543\n",
      "[2024/09/14 15:41:06] ppocr DEBUG: cls num  : 11, elapsed : 0.0668179988861084\n",
      "[2024/09/14 15:41:07] ppocr DEBUG: rec_res num  : 11, elapsed : 0.6055929660797119\n",
      "[2024/09/14 15:41:07] ppocr DEBUG: dt_boxes num : 9, elapsed : 0.1319262981414795\n",
      "[2024/09/14 15:41:07] ppocr DEBUG: cls num  : 9, elapsed : 0.08124399185180664\n",
      "[2024/09/14 15:41:08] ppocr DEBUG: rec_res num  : 9, elapsed : 0.29531240463256836\n",
      "[2024/09/14 15:41:08] ppocr DEBUG: dt_boxes num : 8, elapsed : 0.4994785785675049\n",
      "[2024/09/14 15:41:08] ppocr DEBUG: cls num  : 8, elapsed : 0.0713951587677002\n",
      "[2024/09/14 15:41:09] ppocr DEBUG: rec_res num  : 8, elapsed : 0.2673323154449463\n",
      "[2024/09/14 15:41:09] ppocr DEBUG: dt_boxes num : 6, elapsed : 0.2422044277191162\n",
      "[2024/09/14 15:41:09] ppocr DEBUG: cls num  : 6, elapsed : 0.0520780086517334\n",
      "[2024/09/14 15:41:10] ppocr DEBUG: rec_res num  : 6, elapsed : 0.5231132507324219\n",
      "[2024/09/14 15:41:10] ppocr DEBUG: dt_boxes num : 12, elapsed : 0.1254889965057373\n",
      "[2024/09/14 15:41:11] ppocr DEBUG: cls num  : 12, elapsed : 0.023208141326904297\n",
      "[2024/09/14 15:41:12] ppocr DEBUG: rec_res num  : 12, elapsed : 1.2222094535827637\n"
     ]
    }
   ],
   "source": [
    "results = train_df.copy()\n",
    "results['extracted_text'] = results['image_link'].apply(process_image_from_url)"
   ]
  },
  {
   "cell_type": "code",
   "execution_count": 6,
   "metadata": {},
   "outputs": [
    {
     "data": {
      "text/html": [
       "<div>\n",
       "<style scoped>\n",
       "    .dataframe tbody tr th:only-of-type {\n",
       "        vertical-align: middle;\n",
       "    }\n",
       "\n",
       "    .dataframe tbody tr th {\n",
       "        vertical-align: top;\n",
       "    }\n",
       "\n",
       "    .dataframe thead th {\n",
       "        text-align: right;\n",
       "    }\n",
       "</style>\n",
       "<table border=\"1\" class=\"dataframe\">\n",
       "  <thead>\n",
       "    <tr style=\"text-align: right;\">\n",
       "      <th></th>\n",
       "      <th>image_link</th>\n",
       "      <th>group_id</th>\n",
       "      <th>entity_name</th>\n",
       "      <th>entity_value</th>\n",
       "      <th>extracted_text</th>\n",
       "    </tr>\n",
       "  </thead>\n",
       "  <tbody>\n",
       "    <tr>\n",
       "      <th>0</th>\n",
       "      <td>https://m.media-amazon.com/images/I/61I9XdN6OF...</td>\n",
       "      <td>748919</td>\n",
       "      <td>item_weight</td>\n",
       "      <td>500.0 gram</td>\n",
       "      <td>PROPOS NATURE INGREDIENT MENAGER MULTI-USAGE T...</td>\n",
       "    </tr>\n",
       "    <tr>\n",
       "      <th>1</th>\n",
       "      <td>https://m.media-amazon.com/images/I/71gSRbyXmo...</td>\n",
       "      <td>916768</td>\n",
       "      <td>item_volume</td>\n",
       "      <td>1.0 cup</td>\n",
       "      <td>TEARRIFIC LEBENSMITTELECHT HDAY GEPRAGTES DESI...</td>\n",
       "    </tr>\n",
       "    <tr>\n",
       "      <th>2</th>\n",
       "      <td>https://m.media-amazon.com/images/I/61BZ4zrjZX...</td>\n",
       "      <td>459516</td>\n",
       "      <td>item_weight</td>\n",
       "      <td>0.709 gram</td>\n",
       "      <td>COMPOSITION Serving Size:1 Tablet 0.709 g)Each...</td>\n",
       "    </tr>\n",
       "    <tr>\n",
       "      <th>3</th>\n",
       "      <td>https://m.media-amazon.com/images/I/612mrlqiI4...</td>\n",
       "      <td>459516</td>\n",
       "      <td>item_weight</td>\n",
       "      <td>0.709 gram</td>\n",
       "      <td>WarningConsult your physician before using thi...</td>\n",
       "    </tr>\n",
       "    <tr>\n",
       "      <th>4</th>\n",
       "      <td>https://m.media-amazon.com/images/I/617Tl40LOX...</td>\n",
       "      <td>731432</td>\n",
       "      <td>item_weight</td>\n",
       "      <td>1400 milligram</td>\n",
       "      <td>Horbaach HIGHSTRENGTH PSYLLIOM HUSK 1400 PLANT...</td>\n",
       "    </tr>\n",
       "  </tbody>\n",
       "</table>\n",
       "</div>"
      ],
      "text/plain": [
       "                                          image_link  group_id  entity_name  \\\n",
       "0  https://m.media-amazon.com/images/I/61I9XdN6OF...    748919  item_weight   \n",
       "1  https://m.media-amazon.com/images/I/71gSRbyXmo...    916768  item_volume   \n",
       "2  https://m.media-amazon.com/images/I/61BZ4zrjZX...    459516  item_weight   \n",
       "3  https://m.media-amazon.com/images/I/612mrlqiI4...    459516  item_weight   \n",
       "4  https://m.media-amazon.com/images/I/617Tl40LOX...    731432  item_weight   \n",
       "\n",
       "     entity_value                                     extracted_text  \n",
       "0      500.0 gram  PROPOS NATURE INGREDIENT MENAGER MULTI-USAGE T...  \n",
       "1         1.0 cup  TEARRIFIC LEBENSMITTELECHT HDAY GEPRAGTES DESI...  \n",
       "2      0.709 gram  COMPOSITION Serving Size:1 Tablet 0.709 g)Each...  \n",
       "3      0.709 gram  WarningConsult your physician before using thi...  \n",
       "4  1400 milligram  Horbaach HIGHSTRENGTH PSYLLIOM HUSK 1400 PLANT...  "
      ]
     },
     "execution_count": 6,
     "metadata": {},
     "output_type": "execute_result"
    }
   ],
   "source": [
    "results.head()"
   ]
  },
  {
   "cell_type": "markdown",
   "metadata": {},
   "source": [
    "#### 3. Performing Entity Mapping"
   ]
  },
  {
   "cell_type": "code",
   "execution_count": 7,
   "metadata": {},
   "outputs": [
    {
     "data": {
      "text/html": [
       "<div>\n",
       "<style scoped>\n",
       "    .dataframe tbody tr th:only-of-type {\n",
       "        vertical-align: middle;\n",
       "    }\n",
       "\n",
       "    .dataframe tbody tr th {\n",
       "        vertical-align: top;\n",
       "    }\n",
       "\n",
       "    .dataframe thead th {\n",
       "        text-align: right;\n",
       "    }\n",
       "</style>\n",
       "<table border=\"1\" class=\"dataframe\">\n",
       "  <thead>\n",
       "    <tr style=\"text-align: right;\">\n",
       "      <th></th>\n",
       "      <th>image_link</th>\n",
       "      <th>group_id</th>\n",
       "      <th>entity_name</th>\n",
       "      <th>entity_value</th>\n",
       "      <th>extracted_text</th>\n",
       "      <th>extracted_value</th>\n",
       "    </tr>\n",
       "  </thead>\n",
       "  <tbody>\n",
       "    <tr>\n",
       "      <th>0</th>\n",
       "      <td>https://m.media-amazon.com/images/I/61I9XdN6OF...</td>\n",
       "      <td>748919</td>\n",
       "      <td>item_weight</td>\n",
       "      <td>500.0 gram</td>\n",
       "      <td>PROPOS NATURE INGREDIENT MENAGER MULTI-USAGE T...</td>\n",
       "      <td></td>\n",
       "    </tr>\n",
       "    <tr>\n",
       "      <th>1</th>\n",
       "      <td>https://m.media-amazon.com/images/I/71gSRbyXmo...</td>\n",
       "      <td>916768</td>\n",
       "      <td>item_volume</td>\n",
       "      <td>1.0 cup</td>\n",
       "      <td>TEARRIFIC LEBENSMITTELECHT HDAY GEPRAGTES DESI...</td>\n",
       "      <td></td>\n",
       "    </tr>\n",
       "    <tr>\n",
       "      <th>2</th>\n",
       "      <td>https://m.media-amazon.com/images/I/61BZ4zrjZX...</td>\n",
       "      <td>459516</td>\n",
       "      <td>item_weight</td>\n",
       "      <td>0.709 gram</td>\n",
       "      <td>COMPOSITION Serving Size:1 Tablet 0.709 g)Each...</td>\n",
       "      <td>200 milligram</td>\n",
       "    </tr>\n",
       "    <tr>\n",
       "      <th>3</th>\n",
       "      <td>https://m.media-amazon.com/images/I/612mrlqiI4...</td>\n",
       "      <td>459516</td>\n",
       "      <td>item_weight</td>\n",
       "      <td>0.709 gram</td>\n",
       "      <td>WarningConsult your physician before using thi...</td>\n",
       "      <td></td>\n",
       "    </tr>\n",
       "    <tr>\n",
       "      <th>4</th>\n",
       "      <td>https://m.media-amazon.com/images/I/617Tl40LOX...</td>\n",
       "      <td>731432</td>\n",
       "      <td>item_weight</td>\n",
       "      <td>1400 milligram</td>\n",
       "      <td>Horbaach HIGHSTRENGTH PSYLLIOM HUSK 1400 PLANT...</td>\n",
       "      <td></td>\n",
       "    </tr>\n",
       "    <tr>\n",
       "      <th>5</th>\n",
       "      <td>https://m.media-amazon.com/images/I/61QsBSE7jg...</td>\n",
       "      <td>731432</td>\n",
       "      <td>item_weight</td>\n",
       "      <td>1400 milligram</td>\n",
       "      <td>Horbaach HIGHSTRENGTH Naturally-Sourced Psylli...</td>\n",
       "      <td>1400 milligram</td>\n",
       "    </tr>\n",
       "    <tr>\n",
       "      <th>6</th>\n",
       "      <td>https://m.media-amazon.com/images/I/81xsq6vf2q...</td>\n",
       "      <td>731432</td>\n",
       "      <td>item_weight</td>\n",
       "      <td>1400 milligram</td>\n",
       "      <td>Horbaach Directions: For adults, take two (2) ...</td>\n",
       "      <td>1400 milligram</td>\n",
       "    </tr>\n",
       "    <tr>\n",
       "      <th>7</th>\n",
       "      <td>https://m.media-amazon.com/images/I/71DiLRHeZd...</td>\n",
       "      <td>731432</td>\n",
       "      <td>item_weight</td>\n",
       "      <td>1400 milligram</td>\n",
       "      <td>VEGAN Horbaach WHEAT FREE HIGH STRENGTH 000 PS...</td>\n",
       "      <td></td>\n",
       "    </tr>\n",
       "    <tr>\n",
       "      <th>8</th>\n",
       "      <td>https://m.media-amazon.com/images/I/91Cma3Rzse...</td>\n",
       "      <td>731432</td>\n",
       "      <td>item_weight</td>\n",
       "      <td>1400 milligram</td>\n",
       "      <td>Horbaach 100% HIGHEST QUALITY Horbaach TO GMP ...</td>\n",
       "      <td></td>\n",
       "    </tr>\n",
       "    <tr>\n",
       "      <th>9</th>\n",
       "      <td>https://m.media-amazon.com/images/I/71jBLhmTNl...</td>\n",
       "      <td>731432</td>\n",
       "      <td>item_weight</td>\n",
       "      <td>1400 milligram</td>\n",
       "      <td>NEWOOK SAME TRUSTED OUALITY OLD NEW Horbaach H...</td>\n",
       "      <td></td>\n",
       "    </tr>\n",
       "    <tr>\n",
       "      <th>10</th>\n",
       "      <td>https://m.media-amazon.com/images/I/81N73b5khV...</td>\n",
       "      <td>149159</td>\n",
       "      <td>item_weight</td>\n",
       "      <td>30.0 kilogram</td>\n",
       "      <td>GroBe Kapazitat, Tragfahigkeit bis zu 30KG Das...</td>\n",
       "      <td></td>\n",
       "    </tr>\n",
       "    <tr>\n",
       "      <th>11</th>\n",
       "      <td>https://m.media-amazon.com/images/I/61oMj2iXOu...</td>\n",
       "      <td>308856</td>\n",
       "      <td>item_weight</td>\n",
       "      <td>10 kilogram to 15 kilogram</td>\n",
       "      <td>WILDFANG XS S XL 1,3 cm 2 cm 2,5cm 3 cm 3,5 cm...</td>\n",
       "      <td>10 kilogram</td>\n",
       "    </tr>\n",
       "    <tr>\n",
       "      <th>12</th>\n",
       "      <td>https://m.media-amazon.com/images/I/91LPf6OjV9...</td>\n",
       "      <td>281678</td>\n",
       "      <td>item_weight</td>\n",
       "      <td>3.53 ounce</td>\n",
       "      <td>ERICH Helps in CRICH Helps in osteoarthritis d...</td>\n",
       "      <td></td>\n",
       "    </tr>\n",
       "    <tr>\n",
       "      <th>13</th>\n",
       "      <td>https://m.media-amazon.com/images/I/81fOxWWWKY...</td>\n",
       "      <td>281678</td>\n",
       "      <td>item_weight</td>\n",
       "      <td>3.53 ounce</td>\n",
       "      <td>USDA ORGANIC SSRICHS PROMOTES ORGANICS DIGESTV...</td>\n",
       "      <td>3.53 ounce</td>\n",
       "    </tr>\n",
       "    <tr>\n",
       "      <th>14</th>\n",
       "      <td>https://m.media-amazon.com/images/I/81dzao1Ob4...</td>\n",
       "      <td>281678</td>\n",
       "      <td>item_weight</td>\n",
       "      <td>53 ounce</td>\n",
       "      <td>PACKAGNG  CHANGED OOD FOR THE MODERN LIFE SRIC...</td>\n",
       "      <td>3.53 ounce</td>\n",
       "    </tr>\n",
       "    <tr>\n",
       "      <th>15</th>\n",
       "      <td>https://m.media-amazon.com/images/I/91-iahVGED...</td>\n",
       "      <td>281678</td>\n",
       "      <td>item_weight</td>\n",
       "      <td>100 gram</td>\n",
       "      <td>XX XX L.oose packaging Impurities added Other ...</td>\n",
       "      <td></td>\n",
       "    </tr>\n",
       "    <tr>\n",
       "      <th>16</th>\n",
       "      <td>https://m.media-amazon.com/images/I/81S2+GnYpT...</td>\n",
       "      <td>731432</td>\n",
       "      <td>item_weight</td>\n",
       "      <td>200 gram</td>\n",
       "      <td>FREE Glucon-D Regular 200gpack Glucon-D R Inst...</td>\n",
       "      <td></td>\n",
       "    </tr>\n",
       "    <tr>\n",
       "      <th>17</th>\n",
       "      <td>https://m.media-amazon.com/images/I/81e2YtCOKv...</td>\n",
       "      <td>731432</td>\n",
       "      <td>item_weight</td>\n",
       "      <td>1 kilogram</td>\n",
       "      <td>FREE Glucon-D Regular 200gpack Glucon-D Net We...</td>\n",
       "      <td></td>\n",
       "    </tr>\n",
       "    <tr>\n",
       "      <th>18</th>\n",
       "      <td>https://m.media-amazon.com/images/I/81RNsNEM1E...</td>\n",
       "      <td>731432</td>\n",
       "      <td>item_weight</td>\n",
       "      <td>200 gram</td>\n",
       "      <td>FREE Glucon-D Regular 200gpack Glucon-D Instan...</td>\n",
       "      <td>170 milligram</td>\n",
       "    </tr>\n",
       "    <tr>\n",
       "      <th>19</th>\n",
       "      <td>https://m.media-amazon.com/images/I/91prZeizZn...</td>\n",
       "      <td>731432</td>\n",
       "      <td>item_weight</td>\n",
       "      <td>200 gram</td>\n",
       "      <td>FREE Glucon-D Regular 200gpack Glucon-D ? Inst...</td>\n",
       "      <td></td>\n",
       "    </tr>\n",
       "    <tr>\n",
       "      <th>20</th>\n",
       "      <td>https://m.media-amazon.com/images/I/31EvJszFVf...</td>\n",
       "      <td>731432</td>\n",
       "      <td>item_weight</td>\n",
       "      <td>200 gram</td>\n",
       "      <td>Glucon-D 9.4in 23cm</td>\n",
       "      <td></td>\n",
       "    </tr>\n",
       "    <tr>\n",
       "      <th>21</th>\n",
       "      <td>https://m.media-amazon.com/images/I/61wzlucTRE...</td>\n",
       "      <td>252585</td>\n",
       "      <td>item_volume</td>\n",
       "      <td>4.0 gallon</td>\n",
       "      <td>ONE SIZE FITS 6 ALL STRETCHABLE AND BLACKFABRI...</td>\n",
       "      <td></td>\n",
       "    </tr>\n",
       "    <tr>\n",
       "      <th>22</th>\n",
       "      <td>https://m.media-amazon.com/images/I/61sQ+qAKr4...</td>\n",
       "      <td>299791</td>\n",
       "      <td>item_weight</td>\n",
       "      <td>2.7 gram</td>\n",
       "      <td>925 SterlingSilver 18K Gold Plated 0.28INCH (7...</td>\n",
       "      <td></td>\n",
       "    </tr>\n",
       "    <tr>\n",
       "      <th>23</th>\n",
       "      <td>https://m.media-amazon.com/images/I/81x77l2T5N...</td>\n",
       "      <td>884560</td>\n",
       "      <td>item_weight</td>\n",
       "      <td>112 gram</td>\n",
       "      <td>Creating a sustainablefoodfuture for you and t...</td>\n",
       "      <td></td>\n",
       "    </tr>\n",
       "    <tr>\n",
       "      <th>24</th>\n",
       "      <td>https://m.media-amazon.com/images/I/71nywfWZUw...</td>\n",
       "      <td>179080</td>\n",
       "      <td>item_weight</td>\n",
       "      <td>4.1 kilogram</td>\n",
       "      <td>9.1cm/3.58\" 36.8cm/ 14.48\" 48V 13Ah 48V 17.5Ah...</td>\n",
       "      <td></td>\n",
       "    </tr>\n",
       "    <tr>\n",
       "      <th>25</th>\n",
       "      <td>https://m.media-amazon.com/images/I/71nywfWZUw...</td>\n",
       "      <td>179080</td>\n",
       "      <td>voltage</td>\n",
       "      <td>48.0 volt</td>\n",
       "      <td>9.1cm/3.58\" 36.8cm/ 14.48\" 48V 13Ah 48V 17.5Ah...</td>\n",
       "      <td>48 volt</td>\n",
       "    </tr>\n",
       "    <tr>\n",
       "      <th>26</th>\n",
       "      <td>https://m.media-amazon.com/images/I/51WsuKKAVr...</td>\n",
       "      <td>866516</td>\n",
       "      <td>item_weight</td>\n",
       "      <td>158.0 gram</td>\n",
       "      <td>Product Name Harvest Festival Doll Product Siz...</td>\n",
       "      <td></td>\n",
       "    </tr>\n",
       "    <tr>\n",
       "      <th>27</th>\n",
       "      <td>https://m.media-amazon.com/images/I/61XGDKap+J...</td>\n",
       "      <td>866516</td>\n",
       "      <td>item_weight</td>\n",
       "      <td>158.0 gram</td>\n",
       "      <td>158g 1580</td>\n",
       "      <td></td>\n",
       "    </tr>\n",
       "    <tr>\n",
       "      <th>28</th>\n",
       "      <td>https://m.media-amazon.com/images/I/715vVcWJxG...</td>\n",
       "      <td>459516</td>\n",
       "      <td>item_weight</td>\n",
       "      <td>5000 milligram</td>\n",
       "      <td>GMP NUVIDA NATURAL HEALTH CRANBERRY EXTRACT Hi...</td>\n",
       "      <td>5000 milligram</td>\n",
       "    </tr>\n",
       "    <tr>\n",
       "      <th>29</th>\n",
       "      <td>https://m.media-amazon.com/images/I/613v+2W4Uw...</td>\n",
       "      <td>524635</td>\n",
       "      <td>item_weight</td>\n",
       "      <td>18.55 gram</td>\n",
       "      <td>50 mI Carvomin R Verdauungstropfen 18,55 g/20 ...</td>\n",
       "      <td></td>\n",
       "    </tr>\n",
       "    <tr>\n",
       "      <th>30</th>\n",
       "      <td>https://m.media-amazon.com/images/I/71+fn9TWQm...</td>\n",
       "      <td>524635</td>\n",
       "      <td>item_weight</td>\n",
       "      <td>18.55 gram</td>\n",
       "      <td>50n 50 mI Carvomin R arvom Verdauungstropfen V...</td>\n",
       "      <td></td>\n",
       "    </tr>\n",
       "    <tr>\n",
       "      <th>31</th>\n",
       "      <td>https://m.media-amazon.com/images/I/71aKgRRQ2w...</td>\n",
       "      <td>524635</td>\n",
       "      <td>item_weight</td>\n",
       "      <td>18.55 gram</td>\n",
       "      <td>Carvonin 50 mI Ierdaungstonfien Carvomin 1855g...</td>\n",
       "      <td></td>\n",
       "    </tr>\n",
       "    <tr>\n",
       "      <th>32</th>\n",
       "      <td>https://m.media-amazon.com/images/I/71rKXZJrh4...</td>\n",
       "      <td>524635</td>\n",
       "      <td>item_weight</td>\n",
       "      <td>18.55 gram</td>\n",
       "      <td></td>\n",
       "      <td></td>\n",
       "    </tr>\n",
       "    <tr>\n",
       "      <th>33</th>\n",
       "      <td>https://m.media-amazon.com/images/I/71D824lbRv...</td>\n",
       "      <td>524635</td>\n",
       "      <td>item_weight</td>\n",
       "      <td>18.55 gram</td>\n",
       "      <td>carvonin 50 mI lerdauungstronfien Carvomin 185...</td>\n",
       "      <td></td>\n",
       "    </tr>\n",
       "    <tr>\n",
       "      <th>34</th>\n",
       "      <td>https://m.media-amazon.com/images/I/71004c9tzf...</td>\n",
       "      <td>730429</td>\n",
       "      <td>item_weight</td>\n",
       "      <td>50.0 gram</td>\n",
       "      <td>65:62 USB CHARGING  PORTS 50 MODE UP DOWN</td>\n",
       "      <td></td>\n",
       "    </tr>\n",
       "    <tr>\n",
       "      <th>35</th>\n",
       "      <td>https://m.media-amazon.com/images/I/51bQPPtMqY...</td>\n",
       "      <td>881883</td>\n",
       "      <td>item_weight</td>\n",
       "      <td>26.0 gram</td>\n",
       "      <td>How to Use. Place the curtain between the coun...</td>\n",
       "      <td></td>\n",
       "    </tr>\n",
       "    <tr>\n",
       "      <th>36</th>\n",
       "      <td>https://m.media-amazon.com/images/I/61o2ntPNNg...</td>\n",
       "      <td>179080</td>\n",
       "      <td>wattage</td>\n",
       "      <td>800.0 watt</td>\n",
       "      <td></td>\n",
       "      <td></td>\n",
       "    </tr>\n",
       "    <tr>\n",
       "      <th>37</th>\n",
       "      <td>https://m.media-amazon.com/images/I/61o2ntPNNg...</td>\n",
       "      <td>179080</td>\n",
       "      <td>voltage</td>\n",
       "      <td>36.0 volt</td>\n",
       "      <td></td>\n",
       "      <td></td>\n",
       "    </tr>\n",
       "    <tr>\n",
       "      <th>38</th>\n",
       "      <td>https://m.media-amazon.com/images/I/71IUuTJ8Qw...</td>\n",
       "      <td>601746</td>\n",
       "      <td>item_weight</td>\n",
       "      <td>330.0 pound</td>\n",
       "      <td></td>\n",
       "      <td></td>\n",
       "    </tr>\n",
       "    <tr>\n",
       "      <th>39</th>\n",
       "      <td>https://m.media-amazon.com/images/I/915JHkwtcr...</td>\n",
       "      <td>487566</td>\n",
       "      <td>item_weight</td>\n",
       "      <td>31.0 ounce</td>\n",
       "      <td></td>\n",
       "      <td></td>\n",
       "    </tr>\n",
       "    <tr>\n",
       "      <th>40</th>\n",
       "      <td>https://m.media-amazon.com/images/I/71cjrYndwI...</td>\n",
       "      <td>794161</td>\n",
       "      <td>item_weight</td>\n",
       "      <td>0.35 ounce</td>\n",
       "      <td>SKINFOOD SALMON DARK CIRCLE CONCEALER This con...</td>\n",
       "      <td>0.35 ounce</td>\n",
       "    </tr>\n",
       "    <tr>\n",
       "      <th>41</th>\n",
       "      <td>https://m.media-amazon.com/images/I/81hnk2WXO3...</td>\n",
       "      <td>639090</td>\n",
       "      <td>item_weight</td>\n",
       "      <td>35.0 gram</td>\n",
       "      <td>hot'chocolate BOMBS Made with Belgian Chocolat...</td>\n",
       "      <td>0 microgram</td>\n",
       "    </tr>\n",
       "    <tr>\n",
       "      <th>42</th>\n",
       "      <td>https://m.media-amazon.com/images/I/61HXgujoxp...</td>\n",
       "      <td>752266</td>\n",
       "      <td>wattage</td>\n",
       "      <td>150.0 watt</td>\n",
       "      <td>IP65 150W</td>\n",
       "      <td>150 watt</td>\n",
       "    </tr>\n",
       "    <tr>\n",
       "      <th>43</th>\n",
       "      <td>https://m.media-amazon.com/images/I/613G8GOyLS...</td>\n",
       "      <td>752266</td>\n",
       "      <td>wattage</td>\n",
       "      <td>150.0 watt</td>\n",
       "      <td>220mm/8.66in 150W IP65 305mm/12.00in 32mm/1.25...</td>\n",
       "      <td>150 watt</td>\n",
       "    </tr>\n",
       "    <tr>\n",
       "      <th>44</th>\n",
       "      <td>https://m.media-amazon.com/images/I/71YyZ2iPyZ...</td>\n",
       "      <td>752266</td>\n",
       "      <td>wattage</td>\n",
       "      <td>30.0 watt</td>\n",
       "      <td>Durable &amp; Flexible LED Floodlight Thickened Gl...</td>\n",
       "      <td>30 watt</td>\n",
       "    </tr>\n",
       "    <tr>\n",
       "      <th>45</th>\n",
       "      <td>https://m.media-amazon.com/images/I/81K3JwUCnQ...</td>\n",
       "      <td>752266</td>\n",
       "      <td>wattage</td>\n",
       "      <td>30.0 watt</td>\n",
       "      <td>1P65 30W IP65 waterproof Dustproof Heat-resist...</td>\n",
       "      <td>30 watt</td>\n",
       "    </tr>\n",
       "    <tr>\n",
       "      <th>46</th>\n",
       "      <td>https://m.media-amazon.com/images/I/41wvffSxB4...</td>\n",
       "      <td>299791</td>\n",
       "      <td>item_weight</td>\n",
       "      <td>15.5 gram</td>\n",
       "      <td>15.5g 50cm 4cm BF EST FRIF ANDS 3.5cm</td>\n",
       "      <td></td>\n",
       "    </tr>\n",
       "    <tr>\n",
       "      <th>47</th>\n",
       "      <td>https://m.media-amazon.com/images/I/91cErO-KbL...</td>\n",
       "      <td>237000</td>\n",
       "      <td>item_weight</td>\n",
       "      <td>200.0 gram</td>\n",
       "      <td>JACQUARD KNITTED MATERIAL Super soft and comfo...</td>\n",
       "      <td></td>\n",
       "    </tr>\n",
       "    <tr>\n",
       "      <th>48</th>\n",
       "      <td>https://m.media-amazon.com/images/I/817vo3DcCN...</td>\n",
       "      <td>179080</td>\n",
       "      <td>wattage</td>\n",
       "      <td>250.0 watt</td>\n",
       "      <td>KOMFORT-PAKET DAS HERZSTUCK : STARKER UND EFFI...</td>\n",
       "      <td>250 watt</td>\n",
       "    </tr>\n",
       "  </tbody>\n",
       "</table>\n",
       "</div>"
      ],
      "text/plain": [
       "                                           image_link  group_id  entity_name  \\\n",
       "0   https://m.media-amazon.com/images/I/61I9XdN6OF...    748919  item_weight   \n",
       "1   https://m.media-amazon.com/images/I/71gSRbyXmo...    916768  item_volume   \n",
       "2   https://m.media-amazon.com/images/I/61BZ4zrjZX...    459516  item_weight   \n",
       "3   https://m.media-amazon.com/images/I/612mrlqiI4...    459516  item_weight   \n",
       "4   https://m.media-amazon.com/images/I/617Tl40LOX...    731432  item_weight   \n",
       "5   https://m.media-amazon.com/images/I/61QsBSE7jg...    731432  item_weight   \n",
       "6   https://m.media-amazon.com/images/I/81xsq6vf2q...    731432  item_weight   \n",
       "7   https://m.media-amazon.com/images/I/71DiLRHeZd...    731432  item_weight   \n",
       "8   https://m.media-amazon.com/images/I/91Cma3Rzse...    731432  item_weight   \n",
       "9   https://m.media-amazon.com/images/I/71jBLhmTNl...    731432  item_weight   \n",
       "10  https://m.media-amazon.com/images/I/81N73b5khV...    149159  item_weight   \n",
       "11  https://m.media-amazon.com/images/I/61oMj2iXOu...    308856  item_weight   \n",
       "12  https://m.media-amazon.com/images/I/91LPf6OjV9...    281678  item_weight   \n",
       "13  https://m.media-amazon.com/images/I/81fOxWWWKY...    281678  item_weight   \n",
       "14  https://m.media-amazon.com/images/I/81dzao1Ob4...    281678  item_weight   \n",
       "15  https://m.media-amazon.com/images/I/91-iahVGED...    281678  item_weight   \n",
       "16  https://m.media-amazon.com/images/I/81S2+GnYpT...    731432  item_weight   \n",
       "17  https://m.media-amazon.com/images/I/81e2YtCOKv...    731432  item_weight   \n",
       "18  https://m.media-amazon.com/images/I/81RNsNEM1E...    731432  item_weight   \n",
       "19  https://m.media-amazon.com/images/I/91prZeizZn...    731432  item_weight   \n",
       "20  https://m.media-amazon.com/images/I/31EvJszFVf...    731432  item_weight   \n",
       "21  https://m.media-amazon.com/images/I/61wzlucTRE...    252585  item_volume   \n",
       "22  https://m.media-amazon.com/images/I/61sQ+qAKr4...    299791  item_weight   \n",
       "23  https://m.media-amazon.com/images/I/81x77l2T5N...    884560  item_weight   \n",
       "24  https://m.media-amazon.com/images/I/71nywfWZUw...    179080  item_weight   \n",
       "25  https://m.media-amazon.com/images/I/71nywfWZUw...    179080      voltage   \n",
       "26  https://m.media-amazon.com/images/I/51WsuKKAVr...    866516  item_weight   \n",
       "27  https://m.media-amazon.com/images/I/61XGDKap+J...    866516  item_weight   \n",
       "28  https://m.media-amazon.com/images/I/715vVcWJxG...    459516  item_weight   \n",
       "29  https://m.media-amazon.com/images/I/613v+2W4Uw...    524635  item_weight   \n",
       "30  https://m.media-amazon.com/images/I/71+fn9TWQm...    524635  item_weight   \n",
       "31  https://m.media-amazon.com/images/I/71aKgRRQ2w...    524635  item_weight   \n",
       "32  https://m.media-amazon.com/images/I/71rKXZJrh4...    524635  item_weight   \n",
       "33  https://m.media-amazon.com/images/I/71D824lbRv...    524635  item_weight   \n",
       "34  https://m.media-amazon.com/images/I/71004c9tzf...    730429  item_weight   \n",
       "35  https://m.media-amazon.com/images/I/51bQPPtMqY...    881883  item_weight   \n",
       "36  https://m.media-amazon.com/images/I/61o2ntPNNg...    179080      wattage   \n",
       "37  https://m.media-amazon.com/images/I/61o2ntPNNg...    179080      voltage   \n",
       "38  https://m.media-amazon.com/images/I/71IUuTJ8Qw...    601746  item_weight   \n",
       "39  https://m.media-amazon.com/images/I/915JHkwtcr...    487566  item_weight   \n",
       "40  https://m.media-amazon.com/images/I/71cjrYndwI...    794161  item_weight   \n",
       "41  https://m.media-amazon.com/images/I/81hnk2WXO3...    639090  item_weight   \n",
       "42  https://m.media-amazon.com/images/I/61HXgujoxp...    752266      wattage   \n",
       "43  https://m.media-amazon.com/images/I/613G8GOyLS...    752266      wattage   \n",
       "44  https://m.media-amazon.com/images/I/71YyZ2iPyZ...    752266      wattage   \n",
       "45  https://m.media-amazon.com/images/I/81K3JwUCnQ...    752266      wattage   \n",
       "46  https://m.media-amazon.com/images/I/41wvffSxB4...    299791  item_weight   \n",
       "47  https://m.media-amazon.com/images/I/91cErO-KbL...    237000  item_weight   \n",
       "48  https://m.media-amazon.com/images/I/817vo3DcCN...    179080      wattage   \n",
       "\n",
       "                  entity_value  \\\n",
       "0                   500.0 gram   \n",
       "1                      1.0 cup   \n",
       "2                   0.709 gram   \n",
       "3                   0.709 gram   \n",
       "4               1400 milligram   \n",
       "5               1400 milligram   \n",
       "6               1400 milligram   \n",
       "7               1400 milligram   \n",
       "8               1400 milligram   \n",
       "9               1400 milligram   \n",
       "10               30.0 kilogram   \n",
       "11  10 kilogram to 15 kilogram   \n",
       "12                  3.53 ounce   \n",
       "13                  3.53 ounce   \n",
       "14                    53 ounce   \n",
       "15                    100 gram   \n",
       "16                    200 gram   \n",
       "17                  1 kilogram   \n",
       "18                    200 gram   \n",
       "19                    200 gram   \n",
       "20                    200 gram   \n",
       "21                  4.0 gallon   \n",
       "22                    2.7 gram   \n",
       "23                    112 gram   \n",
       "24                4.1 kilogram   \n",
       "25                   48.0 volt   \n",
       "26                  158.0 gram   \n",
       "27                  158.0 gram   \n",
       "28              5000 milligram   \n",
       "29                  18.55 gram   \n",
       "30                  18.55 gram   \n",
       "31                  18.55 gram   \n",
       "32                  18.55 gram   \n",
       "33                  18.55 gram   \n",
       "34                   50.0 gram   \n",
       "35                   26.0 gram   \n",
       "36                  800.0 watt   \n",
       "37                   36.0 volt   \n",
       "38                 330.0 pound   \n",
       "39                  31.0 ounce   \n",
       "40                  0.35 ounce   \n",
       "41                   35.0 gram   \n",
       "42                  150.0 watt   \n",
       "43                  150.0 watt   \n",
       "44                   30.0 watt   \n",
       "45                   30.0 watt   \n",
       "46                   15.5 gram   \n",
       "47                  200.0 gram   \n",
       "48                  250.0 watt   \n",
       "\n",
       "                                       extracted_text extracted_value  \n",
       "0   PROPOS NATURE INGREDIENT MENAGER MULTI-USAGE T...                  \n",
       "1   TEARRIFIC LEBENSMITTELECHT HDAY GEPRAGTES DESI...                  \n",
       "2   COMPOSITION Serving Size:1 Tablet 0.709 g)Each...   200 milligram  \n",
       "3   WarningConsult your physician before using thi...                  \n",
       "4   Horbaach HIGHSTRENGTH PSYLLIOM HUSK 1400 PLANT...                  \n",
       "5   Horbaach HIGHSTRENGTH Naturally-Sourced Psylli...  1400 milligram  \n",
       "6   Horbaach Directions: For adults, take two (2) ...  1400 milligram  \n",
       "7   VEGAN Horbaach WHEAT FREE HIGH STRENGTH 000 PS...                  \n",
       "8   Horbaach 100% HIGHEST QUALITY Horbaach TO GMP ...                  \n",
       "9   NEWOOK SAME TRUSTED OUALITY OLD NEW Horbaach H...                  \n",
       "10  GroBe Kapazitat, Tragfahigkeit bis zu 30KG Das...                  \n",
       "11  WILDFANG XS S XL 1,3 cm 2 cm 2,5cm 3 cm 3,5 cm...     10 kilogram  \n",
       "12  ERICH Helps in CRICH Helps in osteoarthritis d...                  \n",
       "13  USDA ORGANIC SSRICHS PROMOTES ORGANICS DIGESTV...      3.53 ounce  \n",
       "14  PACKAGNG  CHANGED OOD FOR THE MODERN LIFE SRIC...      3.53 ounce  \n",
       "15  XX XX L.oose packaging Impurities added Other ...                  \n",
       "16  FREE Glucon-D Regular 200gpack Glucon-D R Inst...                  \n",
       "17  FREE Glucon-D Regular 200gpack Glucon-D Net We...                  \n",
       "18  FREE Glucon-D Regular 200gpack Glucon-D Instan...   170 milligram  \n",
       "19  FREE Glucon-D Regular 200gpack Glucon-D ? Inst...                  \n",
       "20                                Glucon-D 9.4in 23cm                  \n",
       "21  ONE SIZE FITS 6 ALL STRETCHABLE AND BLACKFABRI...                  \n",
       "22  925 SterlingSilver 18K Gold Plated 0.28INCH (7...                  \n",
       "23  Creating a sustainablefoodfuture for you and t...                  \n",
       "24  9.1cm/3.58\" 36.8cm/ 14.48\" 48V 13Ah 48V 17.5Ah...                  \n",
       "25  9.1cm/3.58\" 36.8cm/ 14.48\" 48V 13Ah 48V 17.5Ah...         48 volt  \n",
       "26  Product Name Harvest Festival Doll Product Siz...                  \n",
       "27                                          158g 1580                  \n",
       "28  GMP NUVIDA NATURAL HEALTH CRANBERRY EXTRACT Hi...  5000 milligram  \n",
       "29  50 mI Carvomin R Verdauungstropfen 18,55 g/20 ...                  \n",
       "30  50n 50 mI Carvomin R arvom Verdauungstropfen V...                  \n",
       "31  Carvonin 50 mI Ierdaungstonfien Carvomin 1855g...                  \n",
       "32                                                                     \n",
       "33  carvonin 50 mI lerdauungstronfien Carvomin 185...                  \n",
       "34          65:62 USB CHARGING  PORTS 50 MODE UP DOWN                  \n",
       "35  How to Use. Place the curtain between the coun...                  \n",
       "36                                                                     \n",
       "37                                                                     \n",
       "38                                                                     \n",
       "39                                                                     \n",
       "40  SKINFOOD SALMON DARK CIRCLE CONCEALER This con...      0.35 ounce  \n",
       "41  hot'chocolate BOMBS Made with Belgian Chocolat...     0 microgram  \n",
       "42                                          IP65 150W        150 watt  \n",
       "43  220mm/8.66in 150W IP65 305mm/12.00in 32mm/1.25...        150 watt  \n",
       "44  Durable & Flexible LED Floodlight Thickened Gl...         30 watt  \n",
       "45  1P65 30W IP65 waterproof Dustproof Heat-resist...         30 watt  \n",
       "46              15.5g 50cm 4cm BF EST FRIF ANDS 3.5cm                  \n",
       "47  JACQUARD KNITTED MATERIAL Super soft and comfo...                  \n",
       "48  KOMFORT-PAKET DAS HERZSTUCK : STARKER UND EFFI...        250 watt  "
      ]
     },
     "execution_count": 7,
     "metadata": {},
     "output_type": "execute_result"
    }
   ],
   "source": [
    "import re\n",
    "entity_patterns = {\n",
    "    'item_weight': {\n",
    "        'gram': r'(\\d+\\.?\\d*)\\s*(gram)',\n",
    "        'kilogram': r'(\\d+\\.?\\d*)\\s*(kilogram|kg)',\n",
    "        'microgram': r'(\\d+\\.?\\d*)\\s*(microgram|mcg)',\n",
    "        'milligram': r'(\\d+\\.?\\d*)\\s*(milligram|mg)',\n",
    "        'ounce': r'(\\d+\\.?\\d*)\\s*(ounce|oz)',\n",
    "        'pound': r'(\\d+\\.?\\d*)\\s*(pound|lb)',\n",
    "        'ton': r'(\\d+\\.?\\d*)\\s*(ton|t)'\n",
    "    },\n",
    "    'item_volume': {\n",
    "        'centilitre': r'(\\d+\\.?\\d*)\\s*(centilitre|cl)',\n",
    "        'cubic foot': r'(\\d+\\.?\\d*)\\s*(cubic foot|cu ft)',\n",
    "        'cubic inch': r'(\\d+\\.?\\d*)\\s*(cubic inch|cu in)',\n",
    "        'cup': r'(\\d+\\.?\\d*)\\s*(cup)',\n",
    "        'decilitre': r'(\\d+\\.?\\d*)\\s*(decilitre|dl)',\n",
    "        'fluid ounce': r'(\\d+\\.?\\d*)\\s*(fluid ounce|fl oz)',\n",
    "        'gallon': r'(\\d+\\.?\\d*)\\s*(gallon|gal)',\n",
    "        'imperial gallon': r'(\\d+\\.?\\d*)\\s*(imperial gallon|imp gal)',\n",
    "        'litre': r'(\\d+\\.?\\d*)\\s*(litre|liter|l)',\n",
    "        'microlitre': r'(\\d+\\.?\\d*)\\s*(microlitre|µl)',\n",
    "        'millilitre': r'(\\d+\\.?\\d*)\\s*(millilitre|ml)',\n",
    "        'pint': r'(\\d+\\.?\\d*)\\s*(pint)',\n",
    "        'quart': r'(\\d+\\.?\\d*)\\s*(quart)'\n",
    "    },\n",
    "    'depth': {\n",
    "        'centimetre': r'(\\d+\\.?\\d*)\\s*(centimetre|cm)',\n",
    "        'foot': r'(\\d+\\.?\\d*)\\s*(foot|ft)',\n",
    "        'inch': r'(\\d+\\.?\\d*)\\s*(inch|in)',\n",
    "        'metre': r'(\\d+\\.?\\d*)\\s*(metre|meter|m)',\n",
    "        'millimetre': r'(\\d+\\.?\\d*)\\s*(millimetre|mm)',\n",
    "        'yard': r'(\\d+\\.?\\d*)\\s*(yard|yd)'\n",
    "    },\n",
    "    'height': {\n",
    "        'centimetre': r'(\\d+\\.?\\d*)\\s*(centimetre|cm)',\n",
    "        'foot': r'(\\d+\\.?\\d*)\\s*(foot|ft)',\n",
    "        'inch': r'(\\d+\\.?\\d*)\\s*(inch|in)',\n",
    "        'metre': r'(\\d+\\.?\\d*)\\s*(metre|meter|m)',\n",
    "        'millimetre': r'(\\d+\\.?\\d*)\\s*(millimetre|mm)',\n",
    "        'yard': r'(\\d+\\.?\\d*)\\s*(yard|yd)'\n",
    "    },\n",
    "    'maximum_weight_recommendation': {\n",
    "        'gram': r'(\\d+\\.?\\d*)\\s*(gram)',\n",
    "        'kilogram': r'(\\d+\\.?\\d*)\\s*(kilogram|kg)',\n",
    "        'microgram': r'(\\d+\\.?\\d*)\\s*(microgram|mcg)',\n",
    "        'milligram': r'(\\d+\\.?\\d*)\\s*(milligram|mg)',\n",
    "        'ounce': r'(\\d+\\.?\\d*)\\s*(ounce|oz)',\n",
    "        'pound': r'(\\d+\\.?\\d*)\\s*(pound|lb)',\n",
    "        'ton': r'(\\d+\\.?\\d*)\\s*(ton|t)'\n",
    "    },\n",
    "    'voltage': {\n",
    "        'kilovolt': r'(\\d+\\.?\\d*)\\s*(kilovolt|kV)',\n",
    "        'millivolt': r'(\\d+\\.?\\d*)\\s*(millivolt|mV)',\n",
    "        'volt': r'(\\d+\\.?\\d*)\\s*(volt|V)'\n",
    "    },\n",
    "    'wattage': {\n",
    "        'kilowatt': r'(\\d+\\.?\\d*)\\s*(kilowatt|kW)',\n",
    "        'watt': r'(\\d+\\.?\\d*)\\s*(watt|W)'\n",
    "    }\n",
    "}\n",
    "\n",
    "\n",
    "# Function to extract the value based on the entity_name\n",
    "def extract_entity_value(extracted_text, entity_name):\n",
    "    patterns = entity_patterns.get(entity_name, {})\n",
    "    for unit, pattern in patterns.items():\n",
    "        match = re.search(pattern, extracted_text)\n",
    "        if match:\n",
    "            return match.group(1) + ' ' + unit\n",
    "    return ''\n",
    "results['extracted_value'] = results.apply(lambda row: extract_entity_value(row['extracted_text'], row['entity_name']), axis=1)\n",
    "\n",
    "results"
   ]
  },
  {
   "cell_type": "markdown",
   "metadata": {},
   "source": [
    "#### 4. Using BERT NER"
   ]
  },
  {
   "cell_type": "code",
   "execution_count": null,
   "metadata": {},
   "outputs": [],
   "source": [
    "from transformers import BertTokenizer, BertForTokenClassification\n",
    "from transformers import pipeline\n",
    "ner_results = nlp_ner(extracted_text)"
   ]
  }
 ],
 "metadata": {
  "kernelspec": {
   "display_name": "Python 3",
   "language": "python",
   "name": "python3"
  },
  "language_info": {
   "codemirror_mode": {
    "name": "ipython",
    "version": 3
   },
   "file_extension": ".py",
   "mimetype": "text/x-python",
   "name": "python",
   "nbconvert_exporter": "python",
   "pygments_lexer": "ipython3",
   "version": "3.12.5"
  }
 },
 "nbformat": 4,
 "nbformat_minor": 2
}
